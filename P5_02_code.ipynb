{
  "nbformat": 4,
  "nbformat_minor": 0,
  "metadata": {
    "kernelspec": {
      "display_name": "Python 3",
      "language": "python",
      "name": "python3"
    },
    "language_info": {
      "codemirror_mode": {
        "name": "ipython",
        "version": 3
      },
      "file_extension": ".py",
      "mimetype": "text/x-python",
      "name": "python",
      "nbconvert_exporter": "python",
      "pygments_lexer": "ipython3",
      "version": "3.7.6"
    },
    "colab": {
      "name": "P5_02_code.ipynb",
      "provenance": [],
      "collapsed_sections": [],
      "include_colab_link": true
    }
  },
  "cells": [
    {
      "cell_type": "markdown",
      "metadata": {
        "id": "view-in-github",
        "colab_type": "text"
      },
      "source": [
        "<a href=\"https://colab.research.google.com/github/Sylvariane/production_etude_de_marche/blob/master/P5_02_code.ipynb\" target=\"_parent\"><img src=\"https://colab.research.google.com/assets/colab-badge.svg\" alt=\"Open In Colab\"/></a>"
      ]
    },
    {
      "cell_type": "markdown",
      "metadata": {
        "id": "rChP7CGPceVn",
        "colab_type": "text"
      },
      "source": [
        "# Produire une étude de marché"
      ]
    },
    {
      "cell_type": "code",
      "metadata": {
        "id": "VpsnqCvXfjuo",
        "colab_type": "code",
        "colab": {
          "base_uri": "https://localhost:8080/",
          "height": 35
        },
        "outputId": "4332bc4d-a9ee-47d0-b337-f6d57542c090"
      },
      "source": [
        "from google.colab import drive\n",
        "drive.mount('/content/drive')\n",
        "dir = '/content/drive/My Drive/Formation Data Analyst/Livrables/P5_guillot_cecile/'"
      ],
      "execution_count": 1,
      "outputs": [
        {
          "output_type": "stream",
          "text": [
            "Drive already mounted at /content/drive; to attempt to forcibly remount, call drive.mount(\"/content/drive\", force_remount=True).\n"
          ],
          "name": "stdout"
        }
      ]
    },
    {
      "cell_type": "markdown",
      "metadata": {
        "id": "a7xrz63bceVr",
        "colab_type": "text"
      },
      "source": [
        "## 1. Téléchargement des modules et des fichiers nécessaires à l'étude"
      ]
    },
    {
      "cell_type": "code",
      "metadata": {
        "id": "hw48--CbceVt",
        "colab_type": "code",
        "colab": {
          "base_uri": "https://localhost:8080/",
          "height": 73
        },
        "outputId": "f3a818dd-7cf4-4dd9-dcc7-f75c962ff2af"
      },
      "source": [
        "import matplotlib.pyplot as plt\n",
        "from matplotlib.collections import LineCollection\n",
        "import seaborn as sns\n",
        "import numpy as np\n",
        "import pandas as pd\n",
        "import scipy as st\n",
        "import statsmodels.api as sm\n",
        "\n",
        "from scipy.stats import ks_2samp\n",
        "from scipy.cluster.hierarchy import dendrogram, linkage, fcluster\n",
        "from sklearn import decomposition, preprocessing\n",
        "from sklearn.cluster import KMeans"
      ],
      "execution_count": 2,
      "outputs": [
        {
          "output_type": "stream",
          "text": [
            "/usr/local/lib/python3.6/dist-packages/statsmodels/tools/_testing.py:19: FutureWarning: pandas.util.testing is deprecated. Use the functions in the public API at pandas.testing instead.\n",
            "  import pandas.util.testing as tm\n"
          ],
          "name": "stderr"
        }
      ]
    },
    {
      "cell_type": "code",
      "metadata": {
        "id": "L2McOFIFceV6",
        "colab_type": "code",
        "colab": {}
      },
      "source": [
        "sns.set_context('talk')\n",
        "sns.set_palette('Set1')"
      ],
      "execution_count": 3,
      "outputs": []
    },
    {
      "cell_type": "code",
      "metadata": {
        "id": "fPjA1dGeceWB",
        "colab_type": "code",
        "colab": {}
      },
      "source": [
        "def display_circles(pcs, n_comp, pca, axis_ranks, labels=None, label_rotation=0, lims=None):\n",
        "    for d1, d2 in axis_ranks: # On affiche les 3 premiers plans factoriels, donc les 6 premières composantes\n",
        "        if d2 < n_comp:\n",
        "\n",
        "            # initialisation de la figure\n",
        "            fig, ax = plt.subplots(figsize=(10,10))\n",
        "\n",
        "            # détermination des limites du graphique\n",
        "            if lims is not None :\n",
        "                xmin, xmax, ymin, ymax = lims\n",
        "            elif pcs.shape[1] < 30 :\n",
        "                xmin, xmax, ymin, ymax = -1, 1, -1, 1\n",
        "            else :\n",
        "                xmin, xmax, ymin, ymax = min(pcs[d1,:]), max(pcs[d1,:]), min(pcs[d2,:]), max(pcs[d2,:])\n",
        "\n",
        "            # affichage des flèches\n",
        "            # s'il y a plus de 30 flèches, on n'affiche pas le triangle à leur extrémité\n",
        "            if pcs.shape[1] < 30 :\n",
        "                plt.quiver(np.zeros(pcs.shape[1]), np.zeros(pcs.shape[1]),\n",
        "                   pcs[d1,:], pcs[d2,:], \n",
        "                   angles='xy', scale_units='xy', scale=1, color=\"grey\")\n",
        "                # (voir la doc : https://matplotlib.org/api/_as_gen/matplotlib.pyplot.quiver.html)\n",
        "            else:\n",
        "                lines = [[[0,0],[x,y]] for x,y in pcs[[d1,d2]].T]\n",
        "                ax.add_collection(LineCollection(lines, axes=ax, alpha=.1, color='black'))\n",
        "            \n",
        "            # affichage des noms des variables  \n",
        "            if labels is not None:  \n",
        "                for i,(x, y) in enumerate(pcs[[d1,d2]].T):\n",
        "                    if x >= xmin and x <= xmax and y >= ymin and y <= ymax :\n",
        "                        plt.text(x, y, labels[i], fontsize='14', ha='center', va='center', rotation=label_rotation, color=\"blue\", alpha=0.5)\n",
        "            \n",
        "            # affichage du cercle\n",
        "            an = np.linspace(0, 2 * np.pi, 100)  # Add a unit circle for scale\n",
        "            plt.plot(np.cos(an), np.sin(an))\n",
        "            plt.axis('equal')\n",
        "\n",
        "            # définition des limites du graphique\n",
        "            plt.xlim(xmin, xmax)\n",
        "            plt.ylim(ymin, ymax)\n",
        "        \n",
        "            # affichage des lignes horizontales et verticales\n",
        "            plt.plot([-1, 1], [0, 0], color='grey', ls='--')\n",
        "            plt.plot([0, 0], [-1, 1], color='grey', ls='--')\n",
        "\n",
        "            # nom des axes, avec le pourcentage d'inertie expliqué\n",
        "            plt.xlabel('F{} ({}%)'.format(d1+1, round(100*pca.explained_variance_ratio_[d1],1)))\n",
        "            plt.ylabel('F{} ({}%)'.format(d2+1, round(100*pca.explained_variance_ratio_[d2],1)))\n",
        "\n",
        "            plt.title(\"Cercle des corrélations (F{} et F{})\".format(d1+1, d2+1))\n",
        "            plt.show(block=False)\n",
        "        \n",
        "def display_factorial_planes(X_projected, n_comp, pca, axis_ranks, labels=None, alpha=1, illustrative_var=None):\n",
        "    for d1,d2 in axis_ranks:\n",
        "        if d2 < n_comp:\n",
        " \n",
        "            # initialisation de la figure       \n",
        "            fig = plt.figure(figsize=(10,10))\n",
        "        \n",
        "            # affichage des points\n",
        "            if illustrative_var is None:\n",
        "                plt.scatter(X_projected[:, d1], X_projected[:, d2], alpha=alpha)\n",
        "            else:\n",
        "                illustrative_var = np.array(illustrative_var)\n",
        "                for value in np.unique(illustrative_var):\n",
        "                    selected = np.where(illustrative_var == value)\n",
        "                    plt.scatter(X_projected[selected, d1], X_projected[selected, d2], alpha=alpha, label=value)\n",
        "                plt.legend()\n",
        "\n",
        "            # affichage des labels des points\n",
        "            if labels is not None:\n",
        "                for i,(x,y) in enumerate(X_projected[:,[d1,d2]]):\n",
        "                    plt.text(x, y, labels[i],\n",
        "                              fontsize='14', ha='center',va='center') \n",
        "                \n",
        "            # détermination des limites du graphique\n",
        "            boundary = np.max(np.abs(X_projected[:, [d1,d2]])) * 1.1\n",
        "            plt.xlim([-boundary,boundary])\n",
        "            plt.ylim([-boundary,boundary])\n",
        "        \n",
        "            # affichage des lignes horizontales et verticales\n",
        "            plt.plot([-100, 100], [0, 0], color='grey', ls='--')\n",
        "            plt.plot([0, 0], [-100, 100], color='grey', ls='--')\n",
        "\n",
        "            # nom des axes, avec le pourcentage d'inertie expliqué\n",
        "            plt.xlabel('F{} ({}%)'.format(d1+1, round(100*pca.explained_variance_ratio_[d1],1)))\n",
        "            plt.ylabel('F{} ({}%)'.format(d2+1, round(100*pca.explained_variance_ratio_[d2],1)))\n",
        "\n",
        "            plt.title(\"Projection des individus (sur F{} et F{})\".format(d1+1, d2+1))\n",
        "            plt.show(block=False)"
      ],
      "execution_count": 4,
      "outputs": []
    },
    {
      "cell_type": "code",
      "metadata": {
        "id": "92W_W-ttceWJ",
        "colab_type": "code",
        "colab": {}
      },
      "source": [
        "vegetaux = pd.read_csv('/content/drive/My Drive/Formation Data Analyst/Livrables/P5_guillot_cecile/vegetaux_2017.csv')\n",
        "animaux = pd.read_csv('/content/drive/My Drive/Formation Data Analyst/Livrables/P5_guillot_cecile/animaux_2017.csv')\n",
        "population = pd.read_csv('/content/drive/My Drive/Formation Data Analyst/Livrables/P5_guillot_cecile/population_2017.csv')\n",
        "eco = pd.read_csv('/content/drive/My Drive/Formation Data Analyst/Livrables/P5_guillot_cecile/croissance_eco_2017.csv')"
      ],
      "execution_count": 5,
      "outputs": []
    },
    {
      "cell_type": "markdown",
      "metadata": {
        "id": "10YKq3CpceWO",
        "colab_type": "text"
      },
      "source": [
        "## 2. Nettoyage et calcul d'une nouvelle variable sur le fichier population"
      ]
    },
    {
      "cell_type": "markdown",
      "metadata": {
        "id": "1gXJj36QceWQ",
        "colab_type": "text"
      },
      "source": [
        "### 2.1. Recherche de valeurs manquantes"
      ]
    },
    {
      "cell_type": "code",
      "metadata": {
        "id": "eNIht8RiceWQ",
        "colab_type": "code",
        "colab": {
          "base_uri": "https://localhost:8080/",
          "height": 290
        },
        "outputId": "da1cd484-0a1a-4a42-8854-8ec3eeff9ff4"
      },
      "source": [
        "# Recherche de valeurs nulles dans le DataFrame 'population'\n",
        "population.isna().sum()"
      ],
      "execution_count": 6,
      "outputs": [
        {
          "output_type": "execute_result",
          "data": {
            "text/plain": [
              "Code Domaine              0\n",
              "Domaine                   0\n",
              "Code zone                 0\n",
              "Zone                      0\n",
              "Code Élément              0\n",
              "Élément                   0\n",
              "Code Produit              0\n",
              "Produit                   0\n",
              "Code année                0\n",
              "Année                     0\n",
              "Unité                     0\n",
              "Valeur                    0\n",
              "Symbole                   0\n",
              "Description du Symbole    0\n",
              "dtype: int64"
            ]
          },
          "metadata": {
            "tags": []
          },
          "execution_count": 6
        }
      ]
    },
    {
      "cell_type": "markdown",
      "metadata": {
        "id": "b_Kk-WOJceWY",
        "colab_type": "text"
      },
      "source": [
        "Aucune valeur manquante apparaît dans le fichier de la population."
      ]
    },
    {
      "cell_type": "markdown",
      "metadata": {
        "id": "o-EMbRNEceWa",
        "colab_type": "text"
      },
      "source": [
        "### 2.2. Recherche de valeurs dupliquées"
      ]
    },
    {
      "cell_type": "code",
      "metadata": {
        "id": "smvSZssgceWc",
        "colab_type": "code",
        "colab": {
          "base_uri": "https://localhost:8080/",
          "height": 35
        },
        "outputId": "94ae0ab0-4019-423c-9675-b0373aba28c6"
      },
      "source": [
        "# Recherche de valeurs dupliquées\n",
        "population.duplicated().sum()"
      ],
      "execution_count": 7,
      "outputs": [
        {
          "output_type": "execute_result",
          "data": {
            "text/plain": [
              "0"
            ]
          },
          "metadata": {
            "tags": []
          },
          "execution_count": 7
        }
      ]
    },
    {
      "cell_type": "markdown",
      "metadata": {
        "id": "GLO8vClvceWh",
        "colab_type": "text"
      },
      "source": [
        "Le DataFrame population ne contient pas de données dupliquées. "
      ]
    },
    {
      "cell_type": "markdown",
      "metadata": {
        "id": "0tgDmmGzceWi",
        "colab_type": "text"
      },
      "source": [
        "### 2.3. Ajout de la variable sur la croissance de population entre l'année 2017 et 2016"
      ]
    },
    {
      "cell_type": "markdown",
      "metadata": {
        "id": "UN45jrDlceWj",
        "colab_type": "text"
      },
      "source": [
        "Avant de commencer le calcul, on conserve les données qui nous seront le plus utiles : le code zone, la zone, le code année, l'année et la valeur. Il faut garder à l'esprit que la population est ici exprimée en milliers d'habitants. Il ne faudra donc pas oublier de multiplier par milles le chiffre pour avoir la valeur exacte. "
      ]
    },
    {
      "cell_type": "code",
      "metadata": {
        "id": "s2Ah2raQceWk",
        "colab_type": "code",
        "colab": {
          "base_uri": "https://localhost:8080/",
          "height": 206
        },
        "outputId": "07e141e8-1b8b-4beb-a8d0-c6fe13b5a708"
      },
      "source": [
        "population = population[['Code zone', 'Zone', 'Code année', 'Année', 'Valeur']]\n",
        "population.head()"
      ],
      "execution_count": 8,
      "outputs": [
        {
          "output_type": "execute_result",
          "data": {
            "text/html": [
              "<div>\n",
              "<style scoped>\n",
              "    .dataframe tbody tr th:only-of-type {\n",
              "        vertical-align: middle;\n",
              "    }\n",
              "\n",
              "    .dataframe tbody tr th {\n",
              "        vertical-align: top;\n",
              "    }\n",
              "\n",
              "    .dataframe thead th {\n",
              "        text-align: right;\n",
              "    }\n",
              "</style>\n",
              "<table border=\"1\" class=\"dataframe\">\n",
              "  <thead>\n",
              "    <tr style=\"text-align: right;\">\n",
              "      <th></th>\n",
              "      <th>Code zone</th>\n",
              "      <th>Zone</th>\n",
              "      <th>Code année</th>\n",
              "      <th>Année</th>\n",
              "      <th>Valeur</th>\n",
              "    </tr>\n",
              "  </thead>\n",
              "  <tbody>\n",
              "    <tr>\n",
              "      <th>0</th>\n",
              "      <td>2</td>\n",
              "      <td>Afghanistan</td>\n",
              "      <td>2014</td>\n",
              "      <td>2014</td>\n",
              "      <td>33370.79</td>\n",
              "    </tr>\n",
              "    <tr>\n",
              "      <th>1</th>\n",
              "      <td>2</td>\n",
              "      <td>Afghanistan</td>\n",
              "      <td>2015</td>\n",
              "      <td>2015</td>\n",
              "      <td>34413.60</td>\n",
              "    </tr>\n",
              "    <tr>\n",
              "      <th>2</th>\n",
              "      <td>2</td>\n",
              "      <td>Afghanistan</td>\n",
              "      <td>2016</td>\n",
              "      <td>2016</td>\n",
              "      <td>35383.03</td>\n",
              "    </tr>\n",
              "    <tr>\n",
              "      <th>3</th>\n",
              "      <td>2</td>\n",
              "      <td>Afghanistan</td>\n",
              "      <td>2017</td>\n",
              "      <td>2017</td>\n",
              "      <td>36296.11</td>\n",
              "    </tr>\n",
              "    <tr>\n",
              "      <th>4</th>\n",
              "      <td>202</td>\n",
              "      <td>Afrique du Sud</td>\n",
              "      <td>2014</td>\n",
              "      <td>2014</td>\n",
              "      <td>54544.19</td>\n",
              "    </tr>\n",
              "  </tbody>\n",
              "</table>\n",
              "</div>"
            ],
            "text/plain": [
              "   Code zone            Zone  Code année  Année    Valeur\n",
              "0          2     Afghanistan        2014   2014  33370.79\n",
              "1          2     Afghanistan        2015   2015  34413.60\n",
              "2          2     Afghanistan        2016   2016  35383.03\n",
              "3          2     Afghanistan        2017   2017  36296.11\n",
              "4        202  Afrique du Sud        2014   2014  54544.19"
            ]
          },
          "metadata": {
            "tags": []
          },
          "execution_count": 8
        }
      ]
    },
    {
      "cell_type": "markdown",
      "metadata": {
        "id": "MgM5BPlbceWq",
        "colab_type": "text"
      },
      "source": [
        "Une fois les données essentielles retenues, on fait pivoter notre table pour obtenir une seule ligne par pays et une colonne par année."
      ]
    },
    {
      "cell_type": "code",
      "metadata": {
        "id": "nTjdvpgGceWq",
        "colab_type": "code",
        "colab": {
          "base_uri": "https://localhost:8080/",
          "height": 206
        },
        "outputId": "5eb496e5-bcdc-4ba5-f5bb-b8d96e619b2c"
      },
      "source": [
        "population = pd.pivot_table(population, index=['Code zone', 'Zone'], columns='Année', values='Valeur').reset_index()\n",
        "population.head()"
      ],
      "execution_count": 9,
      "outputs": [
        {
          "output_type": "execute_result",
          "data": {
            "text/html": [
              "<div>\n",
              "<style scoped>\n",
              "    .dataframe tbody tr th:only-of-type {\n",
              "        vertical-align: middle;\n",
              "    }\n",
              "\n",
              "    .dataframe tbody tr th {\n",
              "        vertical-align: top;\n",
              "    }\n",
              "\n",
              "    .dataframe thead th {\n",
              "        text-align: right;\n",
              "    }\n",
              "</style>\n",
              "<table border=\"1\" class=\"dataframe\">\n",
              "  <thead>\n",
              "    <tr style=\"text-align: right;\">\n",
              "      <th>Année</th>\n",
              "      <th>Code zone</th>\n",
              "      <th>Zone</th>\n",
              "      <th>2014</th>\n",
              "      <th>2015</th>\n",
              "      <th>2016</th>\n",
              "      <th>2017</th>\n",
              "    </tr>\n",
              "  </thead>\n",
              "  <tbody>\n",
              "    <tr>\n",
              "      <th>0</th>\n",
              "      <td>1</td>\n",
              "      <td>Arménie</td>\n",
              "      <td>2912.41</td>\n",
              "      <td>2925.55</td>\n",
              "      <td>2936.14</td>\n",
              "      <td>2944.79</td>\n",
              "    </tr>\n",
              "    <tr>\n",
              "      <th>1</th>\n",
              "      <td>2</td>\n",
              "      <td>Afghanistan</td>\n",
              "      <td>33370.79</td>\n",
              "      <td>34413.60</td>\n",
              "      <td>35383.03</td>\n",
              "      <td>36296.11</td>\n",
              "    </tr>\n",
              "    <tr>\n",
              "      <th>2</th>\n",
              "      <td>3</td>\n",
              "      <td>Albanie</td>\n",
              "      <td>2896.30</td>\n",
              "      <td>2890.51</td>\n",
              "      <td>2886.44</td>\n",
              "      <td>2884.17</td>\n",
              "    </tr>\n",
              "    <tr>\n",
              "      <th>3</th>\n",
              "      <td>4</td>\n",
              "      <td>Algérie</td>\n",
              "      <td>38923.69</td>\n",
              "      <td>39728.03</td>\n",
              "      <td>40551.39</td>\n",
              "      <td>41389.19</td>\n",
              "    </tr>\n",
              "    <tr>\n",
              "      <th>4</th>\n",
              "      <td>7</td>\n",
              "      <td>Angola</td>\n",
              "      <td>26941.78</td>\n",
              "      <td>27884.38</td>\n",
              "      <td>28842.49</td>\n",
              "      <td>29816.77</td>\n",
              "    </tr>\n",
              "  </tbody>\n",
              "</table>\n",
              "</div>"
            ],
            "text/plain": [
              "Année  Code zone         Zone      2014      2015      2016      2017\n",
              "0              1      Arménie   2912.41   2925.55   2936.14   2944.79\n",
              "1              2  Afghanistan  33370.79  34413.60  35383.03  36296.11\n",
              "2              3      Albanie   2896.30   2890.51   2886.44   2884.17\n",
              "3              4      Algérie  38923.69  39728.03  40551.39  41389.19\n",
              "4              7       Angola  26941.78  27884.38  28842.49  29816.77"
            ]
          },
          "metadata": {
            "tags": []
          },
          "execution_count": 9
        }
      ]
    },
    {
      "cell_type": "markdown",
      "metadata": {
        "id": "Q8ke2e89ceWw",
        "colab_type": "text"
      },
      "source": [
        "Une fois notre nouvelle table obtenue, on calcule la différence de population entre l'année 2016 et 2017. Cette dernière est exprimée en pourcentage. Un pourcentage positif montre une augmentation de la croissance et un pourcentage négatif exprime une diminution de la croissance. "
      ]
    },
    {
      "cell_type": "code",
      "metadata": {
        "id": "MMXmTwshceWx",
        "colab_type": "code",
        "colab": {
          "base_uri": "https://localhost:8080/",
          "height": 206
        },
        "outputId": "d67c2578-3dbf-40bc-e94d-9ba96626aea3"
      },
      "source": [
        "population['croissance_pop'] = round(((population[2017]/population[2016])*100)-100,2)\n",
        "population.head()"
      ],
      "execution_count": 10,
      "outputs": [
        {
          "output_type": "execute_result",
          "data": {
            "text/html": [
              "<div>\n",
              "<style scoped>\n",
              "    .dataframe tbody tr th:only-of-type {\n",
              "        vertical-align: middle;\n",
              "    }\n",
              "\n",
              "    .dataframe tbody tr th {\n",
              "        vertical-align: top;\n",
              "    }\n",
              "\n",
              "    .dataframe thead th {\n",
              "        text-align: right;\n",
              "    }\n",
              "</style>\n",
              "<table border=\"1\" class=\"dataframe\">\n",
              "  <thead>\n",
              "    <tr style=\"text-align: right;\">\n",
              "      <th>Année</th>\n",
              "      <th>Code zone</th>\n",
              "      <th>Zone</th>\n",
              "      <th>2014</th>\n",
              "      <th>2015</th>\n",
              "      <th>2016</th>\n",
              "      <th>2017</th>\n",
              "      <th>croissance_pop</th>\n",
              "    </tr>\n",
              "  </thead>\n",
              "  <tbody>\n",
              "    <tr>\n",
              "      <th>0</th>\n",
              "      <td>1</td>\n",
              "      <td>Arménie</td>\n",
              "      <td>2912.41</td>\n",
              "      <td>2925.55</td>\n",
              "      <td>2936.14</td>\n",
              "      <td>2944.79</td>\n",
              "      <td>0.29</td>\n",
              "    </tr>\n",
              "    <tr>\n",
              "      <th>1</th>\n",
              "      <td>2</td>\n",
              "      <td>Afghanistan</td>\n",
              "      <td>33370.79</td>\n",
              "      <td>34413.60</td>\n",
              "      <td>35383.03</td>\n",
              "      <td>36296.11</td>\n",
              "      <td>2.58</td>\n",
              "    </tr>\n",
              "    <tr>\n",
              "      <th>2</th>\n",
              "      <td>3</td>\n",
              "      <td>Albanie</td>\n",
              "      <td>2896.30</td>\n",
              "      <td>2890.51</td>\n",
              "      <td>2886.44</td>\n",
              "      <td>2884.17</td>\n",
              "      <td>-0.08</td>\n",
              "    </tr>\n",
              "    <tr>\n",
              "      <th>3</th>\n",
              "      <td>4</td>\n",
              "      <td>Algérie</td>\n",
              "      <td>38923.69</td>\n",
              "      <td>39728.03</td>\n",
              "      <td>40551.39</td>\n",
              "      <td>41389.19</td>\n",
              "      <td>2.07</td>\n",
              "    </tr>\n",
              "    <tr>\n",
              "      <th>4</th>\n",
              "      <td>7</td>\n",
              "      <td>Angola</td>\n",
              "      <td>26941.78</td>\n",
              "      <td>27884.38</td>\n",
              "      <td>28842.49</td>\n",
              "      <td>29816.77</td>\n",
              "      <td>3.38</td>\n",
              "    </tr>\n",
              "  </tbody>\n",
              "</table>\n",
              "</div>"
            ],
            "text/plain": [
              "Année  Code zone         Zone      2014  ...      2016      2017  croissance_pop\n",
              "0              1      Arménie   2912.41  ...   2936.14   2944.79            0.29\n",
              "1              2  Afghanistan  33370.79  ...  35383.03  36296.11            2.58\n",
              "2              3      Albanie   2896.30  ...   2886.44   2884.17           -0.08\n",
              "3              4      Algérie  38923.69  ...  40551.39  41389.19            2.07\n",
              "4              7       Angola  26941.78  ...  28842.49  29816.77            3.38\n",
              "\n",
              "[5 rows x 7 columns]"
            ]
          },
          "metadata": {
            "tags": []
          },
          "execution_count": 10
        }
      ]
    },
    {
      "cell_type": "code",
      "metadata": {
        "id": "Q-Mrcpj7ceW3",
        "colab_type": "code",
        "colab": {
          "base_uri": "https://localhost:8080/",
          "height": 206
        },
        "outputId": "8ce20244-b3b7-4c69-dc6b-0898c699c527"
      },
      "source": [
        "population_2017 = population[['Code zone', 'Zone', 2017, 'croissance_pop']]\n",
        "population_2017 = population_2017.rename(columns = {'Zone' : 'pays', \n",
        "                                          'Code zone' : 'code_pays',\n",
        "                                           2017 : 'population'})\n",
        "population_2017.head()"
      ],
      "execution_count": 11,
      "outputs": [
        {
          "output_type": "execute_result",
          "data": {
            "text/html": [
              "<div>\n",
              "<style scoped>\n",
              "    .dataframe tbody tr th:only-of-type {\n",
              "        vertical-align: middle;\n",
              "    }\n",
              "\n",
              "    .dataframe tbody tr th {\n",
              "        vertical-align: top;\n",
              "    }\n",
              "\n",
              "    .dataframe thead th {\n",
              "        text-align: right;\n",
              "    }\n",
              "</style>\n",
              "<table border=\"1\" class=\"dataframe\">\n",
              "  <thead>\n",
              "    <tr style=\"text-align: right;\">\n",
              "      <th>Année</th>\n",
              "      <th>code_pays</th>\n",
              "      <th>pays</th>\n",
              "      <th>population</th>\n",
              "      <th>croissance_pop</th>\n",
              "    </tr>\n",
              "  </thead>\n",
              "  <tbody>\n",
              "    <tr>\n",
              "      <th>0</th>\n",
              "      <td>1</td>\n",
              "      <td>Arménie</td>\n",
              "      <td>2944.79</td>\n",
              "      <td>0.29</td>\n",
              "    </tr>\n",
              "    <tr>\n",
              "      <th>1</th>\n",
              "      <td>2</td>\n",
              "      <td>Afghanistan</td>\n",
              "      <td>36296.11</td>\n",
              "      <td>2.58</td>\n",
              "    </tr>\n",
              "    <tr>\n",
              "      <th>2</th>\n",
              "      <td>3</td>\n",
              "      <td>Albanie</td>\n",
              "      <td>2884.17</td>\n",
              "      <td>-0.08</td>\n",
              "    </tr>\n",
              "    <tr>\n",
              "      <th>3</th>\n",
              "      <td>4</td>\n",
              "      <td>Algérie</td>\n",
              "      <td>41389.19</td>\n",
              "      <td>2.07</td>\n",
              "    </tr>\n",
              "    <tr>\n",
              "      <th>4</th>\n",
              "      <td>7</td>\n",
              "      <td>Angola</td>\n",
              "      <td>29816.77</td>\n",
              "      <td>3.38</td>\n",
              "    </tr>\n",
              "  </tbody>\n",
              "</table>\n",
              "</div>"
            ],
            "text/plain": [
              "Année  code_pays         pays  population  croissance_pop\n",
              "0              1      Arménie     2944.79            0.29\n",
              "1              2  Afghanistan    36296.11            2.58\n",
              "2              3      Albanie     2884.17           -0.08\n",
              "3              4      Algérie    41389.19            2.07\n",
              "4              7       Angola    29816.77            3.38"
            ]
          },
          "metadata": {
            "tags": []
          },
          "execution_count": 11
        }
      ]
    },
    {
      "cell_type": "markdown",
      "metadata": {
        "id": "ifYa20LaceW9",
        "colab_type": "text"
      },
      "source": [
        "## 3. Nettoyage et ajout de variables pour les bilans alimentaires"
      ]
    },
    {
      "cell_type": "markdown",
      "metadata": {
        "id": "XRFoWx27ceW_",
        "colab_type": "text"
      },
      "source": [
        "### 3.1. Recheche de valeurs manquantes"
      ]
    },
    {
      "cell_type": "markdown",
      "metadata": {
        "id": "kavPa9V7ceXA",
        "colab_type": "text"
      },
      "source": [
        "On recherche les valeurs manquantes dans les fichiers contenant les bilans alimentaires des végétaux et des animaux. "
      ]
    },
    {
      "cell_type": "code",
      "metadata": {
        "id": "tWmjCmJtceXB",
        "colab_type": "code",
        "colab": {
          "base_uri": "https://localhost:8080/",
          "height": 562
        },
        "outputId": "67d62d62-03ae-498d-dcdc-450f3725210c"
      },
      "source": [
        "print(vegetaux.isna().sum())\n",
        "print(animaux.isna().sum())"
      ],
      "execution_count": 12,
      "outputs": [
        {
          "output_type": "stream",
          "text": [
            "Code Domaine              0\n",
            "Domaine                   0\n",
            "Code zone                 0\n",
            "Zone                      0\n",
            "Code Élément              0\n",
            "Élément                   0\n",
            "Code Produit              0\n",
            "Produit                   0\n",
            "Code année                0\n",
            "Année                     0\n",
            "Unité                     0\n",
            "Valeur                    0\n",
            "Symbole                   0\n",
            "Description du Symbole    0\n",
            "dtype: int64\n",
            "Code Domaine              0\n",
            "Domaine                   0\n",
            "Code zone                 0\n",
            "Zone                      0\n",
            "Code Élément              0\n",
            "Élément                   0\n",
            "Code Produit              0\n",
            "Produit                   0\n",
            "Code année                0\n",
            "Année                     0\n",
            "Unité                     0\n",
            "Valeur                    0\n",
            "Symbole                   0\n",
            "Description du Symbole    0\n",
            "dtype: int64\n"
          ],
          "name": "stdout"
        }
      ]
    },
    {
      "cell_type": "markdown",
      "metadata": {
        "id": "UnPsREJhceXK",
        "colab_type": "text"
      },
      "source": [
        "Les fichiers en lien avec les bilans alimentaires ne contiennent pas de valeurs manquantes."
      ]
    },
    {
      "cell_type": "markdown",
      "metadata": {
        "id": "jo75fUtqceXL",
        "colab_type": "text"
      },
      "source": [
        "### 4.2. Recherche des données dupliquées"
      ]
    },
    {
      "cell_type": "markdown",
      "metadata": {
        "id": "HU8dbXL6ceXM",
        "colab_type": "text"
      },
      "source": [
        "On recherche cette fois-ci la présence de données dupliquées dans les fichiers des bilans alimentaires. "
      ]
    },
    {
      "cell_type": "code",
      "metadata": {
        "id": "nmciZv9EceXN",
        "colab_type": "code",
        "colab": {
          "base_uri": "https://localhost:8080/",
          "height": 53
        },
        "outputId": "d791669f-26e4-4ede-a7de-b29751ce6691"
      },
      "source": [
        "print(vegetaux.duplicated().sum())\n",
        "print(animaux.duplicated().sum())"
      ],
      "execution_count": 13,
      "outputs": [
        {
          "output_type": "stream",
          "text": [
            "0\n",
            "0\n"
          ],
          "name": "stdout"
        }
      ]
    },
    {
      "cell_type": "markdown",
      "metadata": {
        "id": "CeC-rBGGceXU",
        "colab_type": "text"
      },
      "source": [
        "Les fichiers contenant les bilans alimentaires ne contiennent pas de données dupliquées. "
      ]
    },
    {
      "cell_type": "markdown",
      "metadata": {
        "id": "WtImP-azceXV",
        "colab_type": "text"
      },
      "source": [
        "### 4.3 . Construction d'un DataFrame unique pour les bilans alimentaires"
      ]
    },
    {
      "cell_type": "code",
      "metadata": {
        "id": "FVMG7C2JceXV",
        "colab_type": "code",
        "colab": {
          "base_uri": "https://localhost:8080/",
          "height": 206
        },
        "outputId": "344424f7-0958-4d0e-9369-6aa070ba75b8"
      },
      "source": [
        "animaux['origine'] = 'animale'\n",
        "vegetaux['origine'] = 'vegetale'\n",
        "bilan_alim = animaux.append(vegetaux)\n",
        "del animaux\n",
        "del vegetaux\n",
        "bilan_alim = bilan_alim[['Code zone', 'Zone', 'Code Produit', 'Produit', 'Élément', 'Année', 'Valeur', 'origine']]\n",
        "bilan_alim = pd.pivot_table(bilan_alim, index=['Code zone', 'Zone', 'Code Produit', 'Produit', 'Année', 'origine'], columns= 'Élément', values='Valeur', aggfunc=np.sum).reset_index()\n",
        "bilan_alim = bilan_alim.rename(columns = {'Zone' : 'pays', \n",
        "                          'Code zone' : 'code_pays', \n",
        "                          'Produit' : 'produit', \n",
        "                          'Code Produit' : 'code_produit', \n",
        "                          'Année' : 'annee',\n",
        "                          'Disponibilité intérieure' : 'dispo_int', \n",
        "                          'Disponibilité alimentaire (Kcal/personne/jour)' : 'dispo_kcal_p_j',\n",
        "                          'Disponibilité alimentaire en quantité (kg/personne/an)' : 'dispo_kg_p',\n",
        "                          'Disponibilité de matière grasse en quantité (g/personne/jour)' : 'dispo_mat_g_p_j',\n",
        "                          'Disponibilité de protéines en quantité (g/personne/jour)' : 'dispo_prot_g_p_j'})\n",
        "bilan_alim.head()"
      ],
      "execution_count": 14,
      "outputs": [
        {
          "output_type": "execute_result",
          "data": {
            "text/html": [
              "<div>\n",
              "<style scoped>\n",
              "    .dataframe tbody tr th:only-of-type {\n",
              "        vertical-align: middle;\n",
              "    }\n",
              "\n",
              "    .dataframe tbody tr th {\n",
              "        vertical-align: top;\n",
              "    }\n",
              "\n",
              "    .dataframe thead th {\n",
              "        text-align: right;\n",
              "    }\n",
              "</style>\n",
              "<table border=\"1\" class=\"dataframe\">\n",
              "  <thead>\n",
              "    <tr style=\"text-align: right;\">\n",
              "      <th>Élément</th>\n",
              "      <th>code_pays</th>\n",
              "      <th>pays</th>\n",
              "      <th>code_produit</th>\n",
              "      <th>produit</th>\n",
              "      <th>annee</th>\n",
              "      <th>origine</th>\n",
              "      <th>dispo_kcal_p_j</th>\n",
              "      <th>dispo_kg_p</th>\n",
              "      <th>dispo_mat_g_p_j</th>\n",
              "      <th>dispo_prot_g_p_j</th>\n",
              "      <th>dispo_int</th>\n",
              "    </tr>\n",
              "  </thead>\n",
              "  <tbody>\n",
              "    <tr>\n",
              "      <th>0</th>\n",
              "      <td>1</td>\n",
              "      <td>Arménie</td>\n",
              "      <td>2511</td>\n",
              "      <td>Blé et produits</td>\n",
              "      <td>2017</td>\n",
              "      <td>vegetale</td>\n",
              "      <td>1053.0</td>\n",
              "      <td>132.49</td>\n",
              "      <td>3.97</td>\n",
              "      <td>31.35</td>\n",
              "      <td>558.0</td>\n",
              "    </tr>\n",
              "    <tr>\n",
              "      <th>1</th>\n",
              "      <td>1</td>\n",
              "      <td>Arménie</td>\n",
              "      <td>2513</td>\n",
              "      <td>Orge et produits</td>\n",
              "      <td>2017</td>\n",
              "      <td>vegetale</td>\n",
              "      <td>4.0</td>\n",
              "      <td>0.54</td>\n",
              "      <td>0.02</td>\n",
              "      <td>0.15</td>\n",
              "      <td>114.0</td>\n",
              "    </tr>\n",
              "    <tr>\n",
              "      <th>2</th>\n",
              "      <td>1</td>\n",
              "      <td>Arménie</td>\n",
              "      <td>2514</td>\n",
              "      <td>Maïs et produits</td>\n",
              "      <td>2017</td>\n",
              "      <td>vegetale</td>\n",
              "      <td>68.0</td>\n",
              "      <td>7.48</td>\n",
              "      <td>0.60</td>\n",
              "      <td>2.64</td>\n",
              "      <td>58.0</td>\n",
              "    </tr>\n",
              "    <tr>\n",
              "      <th>3</th>\n",
              "      <td>1</td>\n",
              "      <td>Arménie</td>\n",
              "      <td>2515</td>\n",
              "      <td>Seigle et produits</td>\n",
              "      <td>2017</td>\n",
              "      <td>vegetale</td>\n",
              "      <td>1.0</td>\n",
              "      <td>0.14</td>\n",
              "      <td>0.01</td>\n",
              "      <td>0.03</td>\n",
              "      <td>1.0</td>\n",
              "    </tr>\n",
              "    <tr>\n",
              "      <th>4</th>\n",
              "      <td>1</td>\n",
              "      <td>Arménie</td>\n",
              "      <td>2516</td>\n",
              "      <td>Avoine</td>\n",
              "      <td>2017</td>\n",
              "      <td>vegetale</td>\n",
              "      <td>7.0</td>\n",
              "      <td>0.65</td>\n",
              "      <td>0.12</td>\n",
              "      <td>0.26</td>\n",
              "      <td>7.0</td>\n",
              "    </tr>\n",
              "  </tbody>\n",
              "</table>\n",
              "</div>"
            ],
            "text/plain": [
              "Élément  code_pays     pays  ...  dispo_prot_g_p_j dispo_int\n",
              "0                1  Arménie  ...             31.35     558.0\n",
              "1                1  Arménie  ...              0.15     114.0\n",
              "2                1  Arménie  ...              2.64      58.0\n",
              "3                1  Arménie  ...              0.03       1.0\n",
              "4                1  Arménie  ...              0.26       7.0\n",
              "\n",
              "[5 rows x 11 columns]"
            ]
          },
          "metadata": {
            "tags": []
          },
          "execution_count": 14
        }
      ]
    },
    {
      "cell_type": "markdown",
      "metadata": {
        "id": "RjWC1sprceXa",
        "colab_type": "text"
      },
      "source": [
        "Une fois le DataFrame construit, on peut passer aux calculs des variables qui vont intervenir dans notre étude de marché. "
      ]
    },
    {
      "cell_type": "markdown",
      "metadata": {
        "id": "r1NxpEAuceXb",
        "colab_type": "text"
      },
      "source": [
        "### 4.4. Ajouts des différentes variables sur les habitudes alimentaires"
      ]
    },
    {
      "cell_type": "markdown",
      "metadata": {
        "id": "iGiRuk8BceXf",
        "colab_type": "text"
      },
      "source": [
        "Le calcul de la différence de population a déjà été effectué dans la partie concernant l'inspection des données 'population'. La différence s'intéresse à la croissance de la population entre 2016 et 2017. Les données sont donc déjà présentes dans notre DataFrame. Il faudra cependant être prudent car les données sont présentes en deux exemplaires (un pour les produits végétaux et un pour les produits animaux). "
      ]
    },
    {
      "cell_type": "markdown",
      "metadata": {
        "id": "DFOdtuQUceXh",
        "colab_type": "text"
      },
      "source": [
        "#### 4.4.1 . Calcul de la proportion de protéines d'origine animale par rapport à la quantité totale de protéines dans la disponibilité alimentaire du pays "
      ]
    },
    {
      "cell_type": "code",
      "metadata": {
        "id": "7kN_kd7DceXi",
        "colab_type": "code",
        "colab": {
          "base_uri": "https://localhost:8080/",
          "height": 237
        },
        "outputId": "6b4619b2-b834-4c4c-8a48-3676b1268f53"
      },
      "source": [
        "bilan_alim = pd.pivot_table(bilan_alim, index=['code_pays', 'pays'], columns='origine', values=['dispo_prot_g_p_j', 'dispo_kcal_p_j'], aggfunc=np.sum).reset_index(level=[0])\n",
        "columns = bilan_alim.columns\n",
        "new_index = pd.Index([e[0] + e[1] for e in columns.tolist()])\n",
        "bilan_alim.columns = new_index\n",
        "bilan_alim = bilan_alim.rename(columns={'dispo_kcal_p_janimale' : 'dispo_kcal_p_j_anim',\n",
        "                                        'dispo_kcal_p_jvegetale' : 'dispo_kcal_p_j_veg',\n",
        "                                        'dispo_prot_g_p_janimale' : 'dispo_prot_p_j_anim',\n",
        "                                        'dispo_prot_g_p_jvegetale' : 'dispo_prot_p_j_veg'})\n",
        "bilan_alim['totale_prot'] = bilan_alim['dispo_prot_p_j_anim'] + bilan_alim['dispo_prot_p_j_veg']\n",
        "bilan_alim['prop_prot_anim_veg'] = bilan_alim['dispo_prot_p_j_anim']/bilan_alim['totale_prot']\n",
        "bilan_alim.head()"
      ],
      "execution_count": 15,
      "outputs": [
        {
          "output_type": "execute_result",
          "data": {
            "text/html": [
              "<div>\n",
              "<style scoped>\n",
              "    .dataframe tbody tr th:only-of-type {\n",
              "        vertical-align: middle;\n",
              "    }\n",
              "\n",
              "    .dataframe tbody tr th {\n",
              "        vertical-align: top;\n",
              "    }\n",
              "\n",
              "    .dataframe thead th {\n",
              "        text-align: right;\n",
              "    }\n",
              "</style>\n",
              "<table border=\"1\" class=\"dataframe\">\n",
              "  <thead>\n",
              "    <tr style=\"text-align: right;\">\n",
              "      <th></th>\n",
              "      <th>code_pays</th>\n",
              "      <th>dispo_kcal_p_j_anim</th>\n",
              "      <th>dispo_kcal_p_j_veg</th>\n",
              "      <th>dispo_prot_p_j_anim</th>\n",
              "      <th>dispo_prot_p_j_veg</th>\n",
              "      <th>totale_prot</th>\n",
              "      <th>prop_prot_anim_veg</th>\n",
              "    </tr>\n",
              "    <tr>\n",
              "      <th>pays</th>\n",
              "      <th></th>\n",
              "      <th></th>\n",
              "      <th></th>\n",
              "      <th></th>\n",
              "      <th></th>\n",
              "      <th></th>\n",
              "      <th></th>\n",
              "    </tr>\n",
              "  </thead>\n",
              "  <tbody>\n",
              "    <tr>\n",
              "      <th>Arménie</th>\n",
              "      <td>1</td>\n",
              "      <td>789.0</td>\n",
              "      <td>2283.0</td>\n",
              "      <td>44.56</td>\n",
              "      <td>52.77</td>\n",
              "      <td>97.33</td>\n",
              "      <td>0.457824</td>\n",
              "    </tr>\n",
              "    <tr>\n",
              "      <th>Afghanistan</th>\n",
              "      <td>2</td>\n",
              "      <td>190.0</td>\n",
              "      <td>1807.0</td>\n",
              "      <td>10.56</td>\n",
              "      <td>43.53</td>\n",
              "      <td>54.09</td>\n",
              "      <td>0.195230</td>\n",
              "    </tr>\n",
              "    <tr>\n",
              "      <th>Albanie</th>\n",
              "      <td>3</td>\n",
              "      <td>1094.0</td>\n",
              "      <td>2306.0</td>\n",
              "      <td>66.32</td>\n",
              "      <td>53.18</td>\n",
              "      <td>119.50</td>\n",
              "      <td>0.554979</td>\n",
              "    </tr>\n",
              "    <tr>\n",
              "      <th>Algérie</th>\n",
              "      <td>4</td>\n",
              "      <td>402.0</td>\n",
              "      <td>2943.0</td>\n",
              "      <td>25.70</td>\n",
              "      <td>67.15</td>\n",
              "      <td>92.85</td>\n",
              "      <td>0.276791</td>\n",
              "    </tr>\n",
              "    <tr>\n",
              "      <th>Angola</th>\n",
              "      <td>7</td>\n",
              "      <td>210.0</td>\n",
              "      <td>2056.0</td>\n",
              "      <td>16.47</td>\n",
              "      <td>37.62</td>\n",
              "      <td>54.09</td>\n",
              "      <td>0.304493</td>\n",
              "    </tr>\n",
              "  </tbody>\n",
              "</table>\n",
              "</div>"
            ],
            "text/plain": [
              "             code_pays  dispo_kcal_p_j_anim  ...  totale_prot  prop_prot_anim_veg\n",
              "pays                                         ...                                 \n",
              "Arménie              1                789.0  ...        97.33            0.457824\n",
              "Afghanistan          2                190.0  ...        54.09            0.195230\n",
              "Albanie              3               1094.0  ...       119.50            0.554979\n",
              "Algérie              4                402.0  ...        92.85            0.276791\n",
              "Angola               7                210.0  ...        54.09            0.304493\n",
              "\n",
              "[5 rows x 7 columns]"
            ]
          },
          "metadata": {
            "tags": []
          },
          "execution_count": 15
        }
      ]
    },
    {
      "cell_type": "markdown",
      "metadata": {
        "id": "lZBxJcNRceXo",
        "colab_type": "text"
      },
      "source": [
        "#### 4.4.2. Calcul de la disponibilité alimentaire en protéines par habitant"
      ]
    },
    {
      "cell_type": "code",
      "metadata": {
        "id": "Ww5eyQt5ceXo",
        "colab_type": "code",
        "colab": {}
      },
      "source": [
        "bilan_alim = pd.merge(bilan_alim, population_2017, on=['pays', 'code_pays'])"
      ],
      "execution_count": 16,
      "outputs": []
    },
    {
      "cell_type": "code",
      "metadata": {
        "id": "YqnUTKjvceXr",
        "colab_type": "code",
        "colab": {}
      },
      "source": [
        "bilan_alim['population'] = bilan_alim['population'] * 1000\n",
        "bilan_alim['dispo_prot_hab'] = bilan_alim['totale_prot'] * 365"
      ],
      "execution_count": 17,
      "outputs": []
    },
    {
      "cell_type": "markdown",
      "metadata": {
        "id": "T8emuxSjceXx",
        "colab_type": "text"
      },
      "source": [
        "#### 4.4.3. Disponibilité alimentaire en calories par habitant"
      ]
    },
    {
      "cell_type": "code",
      "metadata": {
        "id": "TWvn3UXIceXy",
        "colab_type": "code",
        "colab": {}
      },
      "source": [
        "bilan_alim['totale_kcal'] = bilan_alim['dispo_kcal_p_j_anim'] + bilan_alim['dispo_kcal_p_j_veg']\n",
        "bilan_alim['dispo_kcal_hab'] = bilan_alim['totale_kcal'] * 365"
      ],
      "execution_count": 18,
      "outputs": []
    },
    {
      "cell_type": "markdown",
      "metadata": {
        "id": "ywB1_Kl7ceX2",
        "colab_type": "text"
      },
      "source": [
        "#### 4.4.4. Ajout des informations économiques de 2017"
      ]
    },
    {
      "cell_type": "markdown",
      "metadata": {
        "id": "ZcIt_zOI46a9",
        "colab_type": "text"
      },
      "source": [
        "Avant d'ajouter les informations économiques de l'année 2017, on vérifie qu'il n'y a pas de données manquantes ou de duplicats. "
      ]
    },
    {
      "cell_type": "code",
      "metadata": {
        "id": "zGU6bD4H4oOp",
        "colab_type": "code",
        "colab": {
          "base_uri": "https://localhost:8080/",
          "height": 308
        },
        "outputId": "108fd737-fc53-473a-d408-50b53c975b42"
      },
      "source": [
        "eco.isna().sum()"
      ],
      "execution_count": 19,
      "outputs": [
        {
          "output_type": "execute_result",
          "data": {
            "text/plain": [
              "Code Domaine                0\n",
              "Domaine                     0\n",
              "Code zone                   0\n",
              "Zone                        0\n",
              "Code Élément                0\n",
              "Élément                     0\n",
              "Code Produit                0\n",
              "Produit                     0\n",
              "Code année                  0\n",
              "Année                       0\n",
              "Unité                     420\n",
              "Valeur                      0\n",
              "Symbole                     0\n",
              "Description du Symbole      0\n",
              "Note                      420\n",
              "dtype: int64"
            ]
          },
          "metadata": {
            "tags": []
          },
          "execution_count": 19
        }
      ]
    },
    {
      "cell_type": "code",
      "metadata": {
        "id": "--wcLljx4shy",
        "colab_type": "code",
        "colab": {
          "base_uri": "https://localhost:8080/",
          "height": 35
        },
        "outputId": "cc9c0d9e-02c6-45f2-bc85-80c19e94e848"
      },
      "source": [
        "eco.duplicated().sum()"
      ],
      "execution_count": 20,
      "outputs": [
        {
          "output_type": "execute_result",
          "data": {
            "text/plain": [
              "0"
            ]
          },
          "metadata": {
            "tags": []
          },
          "execution_count": 20
        }
      ]
    },
    {
      "cell_type": "code",
      "metadata": {
        "id": "0b7to6NwAEB5",
        "colab_type": "code",
        "colab": {
          "base_uri": "https://localhost:8080/",
          "height": 206
        },
        "outputId": "31c12ecd-b4b1-4b9f-f192-eba27f08725b"
      },
      "source": [
        "eco = pd.pivot_table(eco, index=['Zone', 'Code zone'], columns='Produit', values='Valeur', aggfunc=np.mean).reset_index()\n",
        "eco.head()"
      ],
      "execution_count": 21,
      "outputs": [
        {
          "output_type": "execute_result",
          "data": {
            "text/html": [
              "<div>\n",
              "<style scoped>\n",
              "    .dataframe tbody tr th:only-of-type {\n",
              "        vertical-align: middle;\n",
              "    }\n",
              "\n",
              "    .dataframe tbody tr th {\n",
              "        vertical-align: top;\n",
              "    }\n",
              "\n",
              "    .dataframe thead th {\n",
              "        text-align: right;\n",
              "    }\n",
              "</style>\n",
              "<table border=\"1\" class=\"dataframe\">\n",
              "  <thead>\n",
              "    <tr style=\"text-align: right;\">\n",
              "      <th>Produit</th>\n",
              "      <th>Zone</th>\n",
              "      <th>Code zone</th>\n",
              "      <th>Produit intérieur brut par habitant</th>\n",
              "      <th>Revenu national brut par habitant</th>\n",
              "    </tr>\n",
              "  </thead>\n",
              "  <tbody>\n",
              "    <tr>\n",
              "      <th>0</th>\n",
              "      <td>Afghanistan</td>\n",
              "      <td>2</td>\n",
              "      <td>605.557362</td>\n",
              "      <td>608.535691</td>\n",
              "    </tr>\n",
              "    <tr>\n",
              "      <th>1</th>\n",
              "      <td>Afrique du Sud</td>\n",
              "      <td>202</td>\n",
              "      <td>6153.459018</td>\n",
              "      <td>5968.912596</td>\n",
              "    </tr>\n",
              "    <tr>\n",
              "      <th>2</th>\n",
              "      <td>Albanie</td>\n",
              "      <td>3</td>\n",
              "      <td>4445.132198</td>\n",
              "      <td>4455.980443</td>\n",
              "    </tr>\n",
              "    <tr>\n",
              "      <th>3</th>\n",
              "      <td>Algérie</td>\n",
              "      <td>4</td>\n",
              "      <td>4051.244377</td>\n",
              "      <td>3999.792576</td>\n",
              "    </tr>\n",
              "    <tr>\n",
              "      <th>4</th>\n",
              "      <td>Allemagne</td>\n",
              "      <td>79</td>\n",
              "      <td>44642.742052</td>\n",
              "      <td>45785.104503</td>\n",
              "    </tr>\n",
              "  </tbody>\n",
              "</table>\n",
              "</div>"
            ],
            "text/plain": [
              "Produit            Zone  ...  Revenu national brut par habitant\n",
              "0           Afghanistan  ...                         608.535691\n",
              "1        Afrique du Sud  ...                        5968.912596\n",
              "2               Albanie  ...                        4455.980443\n",
              "3               Algérie  ...                        3999.792576\n",
              "4             Allemagne  ...                       45785.104503\n",
              "\n",
              "[5 rows x 4 columns]"
            ]
          },
          "metadata": {
            "tags": []
          },
          "execution_count": 21
        }
      ]
    },
    {
      "cell_type": "markdown",
      "metadata": {
        "id": "OKvA-aEc4wrr",
        "colab_type": "text"
      },
      "source": [
        "Il manque 420 données dans la colonne 'Unité' et 'Note'. Cependant cette colonne n'est pas utilisée dans notre analyse donc on ne prend pas en compte cette information. "
      ]
    },
    {
      "cell_type": "code",
      "metadata": {
        "id": "LofAeFOOceX2",
        "colab_type": "code",
        "colab": {}
      },
      "source": [
        "eco = eco[['Code zone', 'Zone', 'Produit intérieur brut par habitant', 'Revenu national brut par habitant']]\n",
        "eco = eco.rename(columns = {'Code zone' : 'code_pays',\n",
        "                            'Zone' : 'pays',\n",
        "                            'Produit intérieur brut par habitant' : 'pib_hab',\n",
        "                            'Revenu national brut par habitant' : 'rnb_hab'})\n",
        "bilan_alim = pd.merge(bilan_alim, eco, on=['code_pays', 'pays'])"
      ],
      "execution_count": 22,
      "outputs": []
    },
    {
      "cell_type": "code",
      "metadata": {
        "scrolled": true,
        "id": "FzMQ66gWceX8",
        "colab_type": "code",
        "colab": {
          "base_uri": "https://localhost:8080/",
          "height": 257
        },
        "outputId": "4a2aa973-e5c5-4e3b-a86e-2e64cd96cff9"
      },
      "source": [
        "bilan_alim = bilan_alim.set_index(bilan_alim['pays'])\n",
        "bilan_alim = bilan_alim.drop(columns=['pays', 'code_pays'])\n",
        "bilan_alim.head()"
      ],
      "execution_count": 23,
      "outputs": [
        {
          "output_type": "execute_result",
          "data": {
            "text/html": [
              "<div>\n",
              "<style scoped>\n",
              "    .dataframe tbody tr th:only-of-type {\n",
              "        vertical-align: middle;\n",
              "    }\n",
              "\n",
              "    .dataframe tbody tr th {\n",
              "        vertical-align: top;\n",
              "    }\n",
              "\n",
              "    .dataframe thead th {\n",
              "        text-align: right;\n",
              "    }\n",
              "</style>\n",
              "<table border=\"1\" class=\"dataframe\">\n",
              "  <thead>\n",
              "    <tr style=\"text-align: right;\">\n",
              "      <th></th>\n",
              "      <th>dispo_kcal_p_j_anim</th>\n",
              "      <th>dispo_kcal_p_j_veg</th>\n",
              "      <th>dispo_prot_p_j_anim</th>\n",
              "      <th>dispo_prot_p_j_veg</th>\n",
              "      <th>totale_prot</th>\n",
              "      <th>prop_prot_anim_veg</th>\n",
              "      <th>population</th>\n",
              "      <th>croissance_pop</th>\n",
              "      <th>dispo_prot_hab</th>\n",
              "      <th>totale_kcal</th>\n",
              "      <th>dispo_kcal_hab</th>\n",
              "      <th>pib_hab</th>\n",
              "      <th>rnb_hab</th>\n",
              "    </tr>\n",
              "    <tr>\n",
              "      <th>pays</th>\n",
              "      <th></th>\n",
              "      <th></th>\n",
              "      <th></th>\n",
              "      <th></th>\n",
              "      <th></th>\n",
              "      <th></th>\n",
              "      <th></th>\n",
              "      <th></th>\n",
              "      <th></th>\n",
              "      <th></th>\n",
              "      <th></th>\n",
              "      <th></th>\n",
              "      <th></th>\n",
              "    </tr>\n",
              "  </thead>\n",
              "  <tbody>\n",
              "    <tr>\n",
              "      <th>Arménie</th>\n",
              "      <td>789.0</td>\n",
              "      <td>2283.0</td>\n",
              "      <td>44.56</td>\n",
              "      <td>52.77</td>\n",
              "      <td>97.33</td>\n",
              "      <td>0.457824</td>\n",
              "      <td>2944790.0</td>\n",
              "      <td>0.29</td>\n",
              "      <td>35525.45</td>\n",
              "      <td>3072.0</td>\n",
              "      <td>1121280.0</td>\n",
              "      <td>3933.682101</td>\n",
              "      <td>4091.789288</td>\n",
              "    </tr>\n",
              "    <tr>\n",
              "      <th>Afghanistan</th>\n",
              "      <td>190.0</td>\n",
              "      <td>1807.0</td>\n",
              "      <td>10.56</td>\n",
              "      <td>43.53</td>\n",
              "      <td>54.09</td>\n",
              "      <td>0.195230</td>\n",
              "      <td>36296110.0</td>\n",
              "      <td>2.58</td>\n",
              "      <td>19742.85</td>\n",
              "      <td>1997.0</td>\n",
              "      <td>728905.0</td>\n",
              "      <td>605.557362</td>\n",
              "      <td>608.535691</td>\n",
              "    </tr>\n",
              "    <tr>\n",
              "      <th>Albanie</th>\n",
              "      <td>1094.0</td>\n",
              "      <td>2306.0</td>\n",
              "      <td>66.32</td>\n",
              "      <td>53.18</td>\n",
              "      <td>119.50</td>\n",
              "      <td>0.554979</td>\n",
              "      <td>2884170.0</td>\n",
              "      <td>-0.08</td>\n",
              "      <td>43617.50</td>\n",
              "      <td>3400.0</td>\n",
              "      <td>1241000.0</td>\n",
              "      <td>4445.132198</td>\n",
              "      <td>4455.980443</td>\n",
              "    </tr>\n",
              "    <tr>\n",
              "      <th>Algérie</th>\n",
              "      <td>402.0</td>\n",
              "      <td>2943.0</td>\n",
              "      <td>25.70</td>\n",
              "      <td>67.15</td>\n",
              "      <td>92.85</td>\n",
              "      <td>0.276791</td>\n",
              "      <td>41389190.0</td>\n",
              "      <td>2.07</td>\n",
              "      <td>33890.25</td>\n",
              "      <td>3345.0</td>\n",
              "      <td>1220925.0</td>\n",
              "      <td>4051.244377</td>\n",
              "      <td>3999.792576</td>\n",
              "    </tr>\n",
              "    <tr>\n",
              "      <th>Angola</th>\n",
              "      <td>210.0</td>\n",
              "      <td>2056.0</td>\n",
              "      <td>16.47</td>\n",
              "      <td>37.62</td>\n",
              "      <td>54.09</td>\n",
              "      <td>0.304493</td>\n",
              "      <td>29816770.0</td>\n",
              "      <td>3.38</td>\n",
              "      <td>19742.85</td>\n",
              "      <td>2266.0</td>\n",
              "      <td>827090.0</td>\n",
              "      <td>4100.291004</td>\n",
              "      <td>3845.473230</td>\n",
              "    </tr>\n",
              "  </tbody>\n",
              "</table>\n",
              "</div>"
            ],
            "text/plain": [
              "             dispo_kcal_p_j_anim  dispo_kcal_p_j_veg  ...      pib_hab      rnb_hab\n",
              "pays                                                  ...                          \n",
              "Arménie                    789.0              2283.0  ...  3933.682101  4091.789288\n",
              "Afghanistan                190.0              1807.0  ...   605.557362   608.535691\n",
              "Albanie                   1094.0              2306.0  ...  4445.132198  4455.980443\n",
              "Algérie                    402.0              2943.0  ...  4051.244377  3999.792576\n",
              "Angola                     210.0              2056.0  ...  4100.291004  3845.473230\n",
              "\n",
              "[5 rows x 13 columns]"
            ]
          },
          "metadata": {
            "tags": []
          },
          "execution_count": 23
        }
      ]
    },
    {
      "cell_type": "markdown",
      "metadata": {
        "id": "aHQtHiGQceYB",
        "colab_type": "text"
      },
      "source": [
        "### 5. Tracé du dendrogramme et définition des clusters"
      ]
    },
    {
      "cell_type": "code",
      "metadata": {
        "id": "mWy_WeajceYB",
        "colab_type": "code",
        "colab": {
          "base_uri": "https://localhost:8080/",
          "height": 1000
        },
        "outputId": "6cebefa9-0695-48c1-bb4e-b34d5ec2a8f4"
      },
      "source": [
        "# préparation des données pour le clustering\n",
        "X = bilan_alim.values\n",
        "names = bilan_alim.index\n",
        "\n",
        "# Centrage et Réduction\n",
        "std_scale = preprocessing.StandardScaler().fit(X)\n",
        "X_scaled = std_scale.transform(X)\n",
        "\n",
        "# Clustering hiérarchique\n",
        "Z = linkage(X_scaled, 'ward')\n",
        "\n",
        "# Affichage du dendrogramme\n",
        "plt.figure(figsize=(10,25))\n",
        "plt.title('Dendrogramme hiérarchique de classification')\n",
        "plt.xlabel('distance')\n",
        "dendrogram(Z,\n",
        "        labels = names,\n",
        "        orientation = \"left\")\n",
        "plt.show()\n",
        "\n",
        "plt.savefig(f'{dir}P5_01_dendrogramme.jpg')"
      ],
      "execution_count": 24,
      "outputs": [
        {
          "output_type": "display_data",
          "data": {
            "image/png": "[encoded data removed]",
            "text/plain": [
              "<Figure size 720x1800 with 1 Axes>"
            ]
          },
          "metadata": {
            "tags": [],
            "needs_background": "light"
          }
        },
        {
          "output_type": "display_data",
          "data": {
            "text/plain": [
              "<Figure size 432x288 with 0 Axes>"
            ]
          },
          "metadata": {
            "tags": []
          }
        }
      ]
    },
    {
      "cell_type": "code",
      "metadata": {
        "id": "JRtqE3KmceYG",
        "colab_type": "code",
        "colab": {}
      },
      "source": [
        "cluster = fcluster(Z, t=5, criterion='maxclust')\n",
        "data_cluster = pd.DataFrame({'pays' : bilan_alim.index.tolist(),\n",
        "                             'ddg_cluster' : cluster})\n",
        "data_cluster = data_cluster.sort_values(['ddg_cluster', 'pays'])\n",
        "data_cluster.to_csv(f'{dir}P5_03_listepays.csv')"
      ],
      "execution_count": 25,
      "outputs": []
    },
    {
      "cell_type": "code",
      "metadata": {
        "id": "m11Gp6ChceYL",
        "colab_type": "code",
        "colab": {
          "base_uri": "https://localhost:8080/",
          "height": 257
        },
        "outputId": "b15eb28d-5e4a-4712-c384-934ae8436286"
      },
      "source": [
        "bilan_alim = pd.merge(bilan_alim, data_cluster, on = 'pays')\n",
        "bilan_alim = bilan_alim.set_index('pays')\n",
        "bilan_alim.head()"
      ],
      "execution_count": 26,
      "outputs": [
        {
          "output_type": "execute_result",
          "data": {
            "text/html": [
              "<div>\n",
              "<style scoped>\n",
              "    .dataframe tbody tr th:only-of-type {\n",
              "        vertical-align: middle;\n",
              "    }\n",
              "\n",
              "    .dataframe tbody tr th {\n",
              "        vertical-align: top;\n",
              "    }\n",
              "\n",
              "    .dataframe thead th {\n",
              "        text-align: right;\n",
              "    }\n",
              "</style>\n",
              "<table border=\"1\" class=\"dataframe\">\n",
              "  <thead>\n",
              "    <tr style=\"text-align: right;\">\n",
              "      <th></th>\n",
              "      <th>dispo_kcal_p_j_anim</th>\n",
              "      <th>dispo_kcal_p_j_veg</th>\n",
              "      <th>dispo_prot_p_j_anim</th>\n",
              "      <th>dispo_prot_p_j_veg</th>\n",
              "      <th>totale_prot</th>\n",
              "      <th>prop_prot_anim_veg</th>\n",
              "      <th>population</th>\n",
              "      <th>croissance_pop</th>\n",
              "      <th>dispo_prot_hab</th>\n",
              "      <th>totale_kcal</th>\n",
              "      <th>dispo_kcal_hab</th>\n",
              "      <th>pib_hab</th>\n",
              "      <th>rnb_hab</th>\n",
              "      <th>ddg_cluster</th>\n",
              "    </tr>\n",
              "    <tr>\n",
              "      <th>pays</th>\n",
              "      <th></th>\n",
              "      <th></th>\n",
              "      <th></th>\n",
              "      <th></th>\n",
              "      <th></th>\n",
              "      <th></th>\n",
              "      <th></th>\n",
              "      <th></th>\n",
              "      <th></th>\n",
              "      <th></th>\n",
              "      <th></th>\n",
              "      <th></th>\n",
              "      <th></th>\n",
              "      <th></th>\n",
              "    </tr>\n",
              "  </thead>\n",
              "  <tbody>\n",
              "    <tr>\n",
              "      <th>Arménie</th>\n",
              "      <td>789.0</td>\n",
              "      <td>2283.0</td>\n",
              "      <td>44.56</td>\n",
              "      <td>52.77</td>\n",
              "      <td>97.33</td>\n",
              "      <td>0.457824</td>\n",
              "      <td>2944790.0</td>\n",
              "      <td>0.29</td>\n",
              "      <td>35525.45</td>\n",
              "      <td>3072.0</td>\n",
              "      <td>1121280.0</td>\n",
              "      <td>3933.682101</td>\n",
              "      <td>4091.789288</td>\n",
              "      <td>2</td>\n",
              "    </tr>\n",
              "    <tr>\n",
              "      <th>Afghanistan</th>\n",
              "      <td>190.0</td>\n",
              "      <td>1807.0</td>\n",
              "      <td>10.56</td>\n",
              "      <td>43.53</td>\n",
              "      <td>54.09</td>\n",
              "      <td>0.195230</td>\n",
              "      <td>36296110.0</td>\n",
              "      <td>2.58</td>\n",
              "      <td>19742.85</td>\n",
              "      <td>1997.0</td>\n",
              "      <td>728905.0</td>\n",
              "      <td>605.557362</td>\n",
              "      <td>608.535691</td>\n",
              "      <td>3</td>\n",
              "    </tr>\n",
              "    <tr>\n",
              "      <th>Albanie</th>\n",
              "      <td>1094.0</td>\n",
              "      <td>2306.0</td>\n",
              "      <td>66.32</td>\n",
              "      <td>53.18</td>\n",
              "      <td>119.50</td>\n",
              "      <td>0.554979</td>\n",
              "      <td>2884170.0</td>\n",
              "      <td>-0.08</td>\n",
              "      <td>43617.50</td>\n",
              "      <td>3400.0</td>\n",
              "      <td>1241000.0</td>\n",
              "      <td>4445.132198</td>\n",
              "      <td>4455.980443</td>\n",
              "      <td>1</td>\n",
              "    </tr>\n",
              "    <tr>\n",
              "      <th>Algérie</th>\n",
              "      <td>402.0</td>\n",
              "      <td>2943.0</td>\n",
              "      <td>25.70</td>\n",
              "      <td>67.15</td>\n",
              "      <td>92.85</td>\n",
              "      <td>0.276791</td>\n",
              "      <td>41389190.0</td>\n",
              "      <td>2.07</td>\n",
              "      <td>33890.25</td>\n",
              "      <td>3345.0</td>\n",
              "      <td>1220925.0</td>\n",
              "      <td>4051.244377</td>\n",
              "      <td>3999.792576</td>\n",
              "      <td>5</td>\n",
              "    </tr>\n",
              "    <tr>\n",
              "      <th>Angola</th>\n",
              "      <td>210.0</td>\n",
              "      <td>2056.0</td>\n",
              "      <td>16.47</td>\n",
              "      <td>37.62</td>\n",
              "      <td>54.09</td>\n",
              "      <td>0.304493</td>\n",
              "      <td>29816770.0</td>\n",
              "      <td>3.38</td>\n",
              "      <td>19742.85</td>\n",
              "      <td>2266.0</td>\n",
              "      <td>827090.0</td>\n",
              "      <td>4100.291004</td>\n",
              "      <td>3845.473230</td>\n",
              "      <td>3</td>\n",
              "    </tr>\n",
              "  </tbody>\n",
              "</table>\n",
              "</div>"
            ],
            "text/plain": [
              "             dispo_kcal_p_j_anim  dispo_kcal_p_j_veg  ...      rnb_hab  ddg_cluster\n",
              "pays                                                  ...                          \n",
              "Arménie                    789.0              2283.0  ...  4091.789288            2\n",
              "Afghanistan                190.0              1807.0  ...   608.535691            3\n",
              "Albanie                   1094.0              2306.0  ...  4455.980443            1\n",
              "Algérie                    402.0              2943.0  ...  3999.792576            5\n",
              "Angola                     210.0              2056.0  ...  3845.473230            3\n",
              "\n",
              "[5 rows x 14 columns]"
            ]
          },
          "metadata": {
            "tags": []
          },
          "execution_count": 26
        }
      ]
    },
    {
      "cell_type": "markdown",
      "metadata": {
        "id": "6AQxEy8pceYQ",
        "colab_type": "text"
      },
      "source": [
        "### 6. Analyse en Composantes Principales"
      ]
    },
    {
      "cell_type": "markdown",
      "metadata": {
        "id": "CXr9-q2vceYR",
        "colab_type": "text"
      },
      "source": [
        "Pour réaliser notre analyse en composantes principales, on prépare les données. On va donc retrouver le nombre de composantes qui a été fixé à 2. En effet selon le critère de Kaiser, on ne retient que les composantes où le pourcentage d'inertie est supérieur à 20%. Ici, on a (100/p) = 20 avec p = 5. On ne devrait sélectionner qu'une seule composante mais il est nécessaire d'en avoir deux pour pouvoir établir le premier plan d'une analyse factorielle. "
      ]
    },
    {
      "cell_type": "code",
      "metadata": {
        "id": "7-XH3PKkceYT",
        "colab_type": "code",
        "colab": {}
      },
      "source": [
        "n_comp = 4\n",
        "data_pca = bilan_alim[['prop_prot_anim_veg', 'croissance_pop', 'dispo_prot_hab', 'dispo_kcal_hab', 'pib_hab', 'rnb_hab']]\n",
        "\n",
        "X = data_pca.values\n",
        "names = bilan_alim.index\n",
        "features = data_pca.columns\n",
        "illustrative_var = bilan_alim['ddg_cluster']"
      ],
      "execution_count": 27,
      "outputs": []
    },
    {
      "cell_type": "code",
      "metadata": {
        "id": "7AC0CX2vceYY",
        "colab_type": "code",
        "colab": {}
      },
      "source": [
        "std_scale = preprocessing.StandardScaler().fit(X)\n",
        "X_scaled = std_scale.transform(X)"
      ],
      "execution_count": 28,
      "outputs": []
    },
    {
      "cell_type": "code",
      "metadata": {
        "id": "grxU4_SJceYb",
        "colab_type": "code",
        "colab": {
          "base_uri": "https://localhost:8080/",
          "height": 53
        },
        "outputId": "3aa3a1e2-c744-47b9-b2b3-b52eaf250609"
      },
      "source": [
        "pca = decomposition.PCA(n_components=n_comp)\n",
        "pca.fit(X_scaled)"
      ],
      "execution_count": 29,
      "outputs": [
        {
          "output_type": "execute_result",
          "data": {
            "text/plain": [
              "PCA(copy=True, iterated_power='auto', n_components=4, random_state=None,\n",
              "    svd_solver='auto', tol=0.0, whiten=False)"
            ]
          },
          "metadata": {
            "tags": []
          },
          "execution_count": 29
        }
      ]
    },
    {
      "cell_type": "code",
      "metadata": {
        "id": "ZX4P7jowceYf",
        "colab_type": "code",
        "colab": {
          "base_uri": "https://localhost:8080/",
          "height": 647
        },
        "outputId": "b9c17e4a-d650-42d4-e29d-6bb5253f3cec"
      },
      "source": [
        "fig, ax = plt.subplots(figsize=(10,10))\n",
        "sns.set_context('talk')\n",
        "\n",
        "scree = pca.explained_variance_ratio_*100\n",
        "plt.bar(np.arange(len(scree))+1, scree, color='gray')\n",
        "plt.plot(np.arange(len(scree))+1, scree.cumsum(),marker='o', color='r')\n",
        "plt.xlabel(\"Rang de l'axe d'inertie\")\n",
        "plt.ylabel(\"Pourcentage d'inertie\")\n",
        "plt.title(\"Eboulis des valeurs propres\")\n",
        "plt.show(block=False)"
      ],
      "execution_count": 30,
      "outputs": [
        {
          "output_type": "display_data",
          "data": {
            "image/png": "[encoded data removed]",
            "text/plain": [
              "<Figure size 720x720 with 1 Axes>"
            ]
          },
          "metadata": {
            "tags": [],
            "needs_background": "light"
          }
        }
      ]
    },
    {
      "cell_type": "markdown",
      "metadata": {
        "id": "SEfYeTsCceYj",
        "colab_type": "text"
      },
      "source": [
        "La représentation des éboulis des valeurs propres vient appuyer ce qui a été défini par le calcul du critère de Kaiser. La première composante F1 représente à elle seule 67% de l'inertie. "
      ]
    },
    {
      "cell_type": "markdown",
      "metadata": {
        "id": "CZkxNgFrceYk",
        "colab_type": "text"
      },
      "source": [
        "Le traçage du cercle de corrélation va nous permettre de comprendre ce qui compose nos deux composantes F1 et F2."
      ]
    },
    {
      "cell_type": "code",
      "metadata": {
        "scrolled": false,
        "id": "fr2_xrUAceYk",
        "colab_type": "code",
        "colab": {
          "base_uri": "https://localhost:8080/",
          "height": 647
        },
        "outputId": "c1e1f690-9232-4a9c-d2c3-82d9246dd83b"
      },
      "source": [
        "pcs = pca.components_\n",
        "display_circles(pcs, n_comp, pca, [(0,1)], labels = np.array(features))"
      ],
      "execution_count": 31,
      "outputs": [
        {
          "output_type": "display_data",
          "data": {
            "image/png": "[encoded data removed]",
            "text/plain": [
              "<Figure size 720x720 with 1 Axes>"
            ]
          },
          "metadata": {
            "tags": [],
            "needs_background": "light"
          }
        }
      ]
    },
    {
      "cell_type": "markdown",
      "metadata": {
        "id": "YS41bVkXceYo",
        "colab_type": "text"
      },
      "source": [
        "Les variables 'dispo_prot_hab', 'dispo_kcal_hab' et 'prop_prot_anim_veg' sont celles qui varient le plus sur l'axe F1. Ces trois variables sont en rapport avec la disponibilité alimentaire de ces pays. Ensuite, les variables 'croissance_pop', 'pib_hab' et 'rnb_hab' sont celles qui varient le plus sur l'axe F2. Ces trois indices sont en rapport avec l'économie du pays."
      ]
    },
    {
      "cell_type": "markdown",
      "metadata": {
        "id": "hqXUcWwRceYp",
        "colab_type": "text"
      },
      "source": [
        "L'axe F1 explique 67% de l'inertie de notre échantillon et l'axe F2 va expliquer 16% de l'inertie. Les variations de notre échantillon peut donc s'expliquer par deux composantes :'disponibilité alimentaire' et 'santé économique'. "
      ]
    },
    {
      "cell_type": "markdown",
      "metadata": {
        "id": "8vMyqyQ0ceYq",
        "colab_type": "text"
      },
      "source": [
        "Pour répondre à la deuxième partie de notre analyse exploratoire, on va projeter les individus sur le premier plan de notre analyse factorielle. Pour plus de simplicité, les labels n'ont pas été mis mais un code de couleur correspondant aux clusters définis plus tôt a été utilisé. "
      ]
    },
    {
      "cell_type": "code",
      "metadata": {
        "scrolled": false,
        "id": "34mje5gjceYq",
        "colab_type": "code",
        "colab": {
          "base_uri": "https://localhost:8080/",
          "height": 647
        },
        "outputId": "47fcd00a-953b-4719-934f-a81b7d2a0a22"
      },
      "source": [
        "X_projected = pca.transform(X_scaled)\n",
        "display_factorial_planes(X_projected, n_comp, pca, [(0,1)], illustrative_var=illustrative_var)"
      ],
      "execution_count": 32,
      "outputs": [
        {
          "output_type": "display_data",
          "data": {
            "image/png": "[encoded data removed]",
            "text/plain": [
              "<Figure size 720x720 with 1 Axes>"
            ]
          },
          "metadata": {
            "tags": [],
            "needs_background": "light"
          }
        }
      ]
    },
    {
      "cell_type": "markdown",
      "metadata": {
        "id": "oxodf8axceYw",
        "colab_type": "text"
      },
      "source": [
        "On retrouve nos 5 clusters définis par le dendrogramme. Le cluster 1 semble comprendre des pays où la disponibilité alimentaire est plutôt positive alors que le cluster 2 est composé de pays où la disponibilité alimentaire est négative. Concernant le cluster 3, il semble constituer de pays où la disponibilité alimentaire est négative et la croissance plutôt stable. Le cluster 4, quant à lui, est composé de deux pays uniquement. Enfin, le cluster 5 est un cluster composé de pays où la disponibilité alimentaire est mixte et la croissance économique est mixte aussi. "
      ]
    },
    {
      "cell_type": "markdown",
      "metadata": {
        "id": "_Y6VyZaHceYw",
        "colab_type": "text"
      },
      "source": [
        "Les pays composant les clusters 3 et 4 sont donc des pays où il semble intéressant de s'implanter."
      ]
    },
    {
      "cell_type": "code",
      "metadata": {
        "id": "3Jv7iit1ceYx",
        "colab_type": "code",
        "colab": {
          "base_uri": "https://localhost:8080/",
          "height": 625
        },
        "outputId": "d8bbd6d3-cead-4917-d948-e99ad820d0a6"
      },
      "source": [
        "n_clust = 5\n",
        "\n",
        "# Clustering par K-means\n",
        "km = KMeans(n_clusters=n_clust)\n",
        "km.fit(X)\n",
        "\n",
        "# Récupération des clusters attribués à chaque individu\n",
        "clusters = km.labels_\n",
        "\n",
        "# Affichage du clustering par projection des individus sur le premier plan factoriel\n",
        "pca = decomposition.PCA(n_components=2).fit(X)\n",
        "X_projected = pca.transform(X)\n",
        "fig, ax = plt.subplots(figsize=(10,10))\n",
        "plt.scatter(X_projected[:, 0], X_projected[:, 1], c=clusters.astype(np.float), cmap = 'jet', alpha=.5)\n",
        "plt.title(\"Projection des {} individus sur le 1e plan factoriel\".format(X_projected.shape[0]))\n",
        "plt.show()"
      ],
      "execution_count": 33,
      "outputs": [
        {
          "output_type": "display_data",
          "data": {
            "image/png": "[encoded data removed]",
            "text/plain": [
              "<Figure size 720x720 with 1 Axes>"
            ]
          },
          "metadata": {
            "tags": [],
            "needs_background": "light"
          }
        }
      ]
    },
    {
      "cell_type": "code",
      "metadata": {
        "id": "nixpbLeYceY1",
        "colab_type": "code",
        "colab": {
          "base_uri": "https://localhost:8080/",
          "height": 643
        },
        "outputId": "a5491188-45f5-4047-8c45-aa05cce20a03"
      },
      "source": [
        "# Affichage des positions des centres de classes\n",
        "plt.figure()\n",
        "fig, ax = plt.subplots(figsize=(10,10))\n",
        "centroids = km.cluster_centers_\n",
        "centroids_projected = pca.transform(centroids)\n",
        "plt.scatter(centroids_projected[:,0],centroids_projected[:,1])\n",
        "plt.title(\"Projection des {} centres sur le 1er plan factoriel\".format(len(centroids)))\n",
        "plt.show()"
      ],
      "execution_count": 34,
      "outputs": [
        {
          "output_type": "display_data",
          "data": {
            "text/plain": [
              "<Figure size 432x288 with 0 Axes>"
            ]
          },
          "metadata": {
            "tags": []
          }
        },
        {
          "output_type": "display_data",
          "data": {
            "image/png": "[encoded data removed]",
            "text/plain": [
              "<Figure size 720x720 with 1 Axes>"
            ]
          },
          "metadata": {
            "tags": [],
            "needs_background": "light"
          }
        }
      ]
    },
    {
      "cell_type": "code",
      "metadata": {
        "id": "CS6TWn7tceY4",
        "colab_type": "code",
        "colab": {}
      },
      "source": [
        "coord_centroids = pd.DataFrame(centroids)\n",
        "coord_centroids = coord_centroids.rename(columns={0 : 'prop_prot_anim_veg',\n",
        "                                                  1 : 'croissance_pop', \n",
        "                                                  2 : 'dispo_prot_hab',\n",
        "                                                  3 : 'dispo_kcal_hab',\n",
        "                                                  4 : 'pib_hab', \n",
        "                                                  5 : 'rnb_hab'})\n",
        "coord_centroids['cluster'] = (1,2,3,4,5)\n",
        "coord_centroids = coord_centroids.set_index('cluster')\n",
        "coord_centroids = coord_centroids.reset_index()\n",
        "coord_centroids.to_csv(f'{dir}P5_04_coordonneescentroides.csv')"
      ],
      "execution_count": 35,
      "outputs": []
    },
    {
      "cell_type": "markdown",
      "metadata": {
        "id": "M0sBrxjdceY8",
        "colab_type": "text"
      },
      "source": [
        "### 7. Etude descriptive"
      ]
    },
    {
      "cell_type": "code",
      "metadata": {
        "id": "b-KpcWJJceY8",
        "colab_type": "code",
        "colab": {
          "base_uri": "https://localhost:8080/",
          "height": 126
        },
        "outputId": "55d7c13a-d6d9-46de-b43e-543e481cfaa8"
      },
      "source": [
        "bilan_alim['ddg_cluster'].value_counts()"
      ],
      "execution_count": 36,
      "outputs": [
        {
          "output_type": "execute_result",
          "data": {
            "text/plain": [
              "2    71\n",
              "1    45\n",
              "3    28\n",
              "5    23\n",
              "4     2\n",
              "Name: ddg_cluster, dtype: int64"
            ]
          },
          "metadata": {
            "tags": []
          },
          "execution_count": 36
        }
      ]
    },
    {
      "cell_type": "markdown",
      "metadata": {
        "id": "8ppVS87hceY_",
        "colab_type": "text"
      },
      "source": [
        "D'après notre découpage en 5 groupes, on remarque que le cluster 4 est composé de 2 pays (Chine continentale et Inde). On peut tenter de faire une partition en 4 groupes."
      ]
    },
    {
      "cell_type": "code",
      "metadata": {
        "id": "zRr_9ERVceZA",
        "colab_type": "code",
        "colab": {}
      },
      "source": [
        "cluster = fcluster(Z, t=4, criterion='maxclust')\n",
        "data_cluster = pd.DataFrame({'pays' : bilan_alim.index.tolist(),\n",
        "                             'ddg_cluster4' : cluster})\n",
        "data_cluster = data_cluster.sort_values(['ddg_cluster4', 'pays'])"
      ],
      "execution_count": 37,
      "outputs": []
    },
    {
      "cell_type": "code",
      "metadata": {
        "id": "P9TdX4HxceZC",
        "colab_type": "code",
        "colab": {
          "base_uri": "https://localhost:8080/",
          "height": 108
        },
        "outputId": "37cfdefd-8c7f-404e-8b09-9b69d782452f"
      },
      "source": [
        "data_cluster['ddg_cluster4'].value_counts()"
      ],
      "execution_count": 38,
      "outputs": [
        {
          "output_type": "execute_result",
          "data": {
            "text/plain": [
              "2    71\n",
              "1    45\n",
              "3    28\n",
              "4    25\n",
              "Name: ddg_cluster4, dtype: int64"
            ]
          },
          "metadata": {
            "tags": []
          },
          "execution_count": 38
        }
      ]
    },
    {
      "cell_type": "code",
      "metadata": {
        "id": "-OSYNMJoceZF",
        "colab_type": "code",
        "colab": {
          "base_uri": "https://localhost:8080/",
          "height": 237
        },
        "outputId": "2fa9a942-15a6-48da-d46f-f9474859b506"
      },
      "source": [
        "bilan_alim = pd.merge(bilan_alim, data_cluster, on='pays')\n",
        "bilan_alim = bilan_alim.drop(columns='ddg_cluster')\n",
        "bilan_alim = bilan_alim[['pays', 'population','prop_prot_anim_veg', 'croissance_pop', 'dispo_prot_hab', 'dispo_kcal_hab', 'pib_hab', 'rnb_hab', 'ddg_cluster4']]\n",
        "bilan_alim = bilan_alim.set_index('pays')\n",
        "bilan_alim = bilan_alim.sort_values('ddg_cluster4')\n",
        "bilan_alim.head()"
      ],
      "execution_count": 39,
      "outputs": [
        {
          "output_type": "execute_result",
          "data": {
            "text/html": [
              "<div>\n",
              "<style scoped>\n",
              "    .dataframe tbody tr th:only-of-type {\n",
              "        vertical-align: middle;\n",
              "    }\n",
              "\n",
              "    .dataframe tbody tr th {\n",
              "        vertical-align: top;\n",
              "    }\n",
              "\n",
              "    .dataframe thead th {\n",
              "        text-align: right;\n",
              "    }\n",
              "</style>\n",
              "<table border=\"1\" class=\"dataframe\">\n",
              "  <thead>\n",
              "    <tr style=\"text-align: right;\">\n",
              "      <th></th>\n",
              "      <th>population</th>\n",
              "      <th>prop_prot_anim_veg</th>\n",
              "      <th>croissance_pop</th>\n",
              "      <th>dispo_prot_hab</th>\n",
              "      <th>dispo_kcal_hab</th>\n",
              "      <th>pib_hab</th>\n",
              "      <th>rnb_hab</th>\n",
              "      <th>ddg_cluster4</th>\n",
              "    </tr>\n",
              "    <tr>\n",
              "      <th>pays</th>\n",
              "      <th></th>\n",
              "      <th></th>\n",
              "      <th></th>\n",
              "      <th></th>\n",
              "      <th></th>\n",
              "      <th></th>\n",
              "      <th></th>\n",
              "      <th></th>\n",
              "    </tr>\n",
              "  </thead>\n",
              "  <tbody>\n",
              "    <tr>\n",
              "      <th>République de Corée</th>\n",
              "      <td>51096420.0</td>\n",
              "      <td>0.507064</td>\n",
              "      <td>0.22</td>\n",
              "      <td>35394.05</td>\n",
              "      <td>1230050.0</td>\n",
              "      <td>31852.314810</td>\n",
              "      <td>31982.151684</td>\n",
              "      <td>1</td>\n",
              "    </tr>\n",
              "    <tr>\n",
              "      <th>Slovénie</th>\n",
              "      <td>2076390.0</td>\n",
              "      <td>0.550310</td>\n",
              "      <td>0.11</td>\n",
              "      <td>35875.85</td>\n",
              "      <td>1168000.0</td>\n",
              "      <td>23347.227276</td>\n",
              "      <td>22924.824889</td>\n",
              "      <td>1</td>\n",
              "    </tr>\n",
              "    <tr>\n",
              "      <th>Islande</th>\n",
              "      <td>334390.0</td>\n",
              "      <td>0.713881</td>\n",
              "      <td>0.66</td>\n",
              "      <td>51589.10</td>\n",
              "      <td>1324585.0</td>\n",
              "      <td>73108.083207</td>\n",
              "      <td>73384.962299</td>\n",
              "      <td>1</td>\n",
              "    </tr>\n",
              "    <tr>\n",
              "      <th>Croatie</th>\n",
              "      <td>4182860.0</td>\n",
              "      <td>0.596363</td>\n",
              "      <td>-0.61</td>\n",
              "      <td>32915.70</td>\n",
              "      <td>1123835.0</td>\n",
              "      <td>13204.751536</td>\n",
              "      <td>12711.278905</td>\n",
              "      <td>1</td>\n",
              "    </tr>\n",
              "    <tr>\n",
              "      <th>Hongrie</th>\n",
              "      <td>9729820.0</td>\n",
              "      <td>0.567571</td>\n",
              "      <td>-0.24</td>\n",
              "      <td>32032.40</td>\n",
              "      <td>1200485.0</td>\n",
              "      <td>14556.367247</td>\n",
              "      <td>13972.224884</td>\n",
              "      <td>1</td>\n",
              "    </tr>\n",
              "  </tbody>\n",
              "</table>\n",
              "</div>"
            ],
            "text/plain": [
              "                     population  prop_prot_anim_veg  ...       rnb_hab  ddg_cluster4\n",
              "pays                                                 ...                            \n",
              "République de Corée  51096420.0            0.507064  ...  31982.151684             1\n",
              "Slovénie              2076390.0            0.550310  ...  22924.824889             1\n",
              "Islande                334390.0            0.713881  ...  73384.962299             1\n",
              "Croatie               4182860.0            0.596363  ...  12711.278905             1\n",
              "Hongrie               9729820.0            0.567571  ...  13972.224884             1\n",
              "\n",
              "[5 rows x 8 columns]"
            ]
          },
          "metadata": {
            "tags": []
          },
          "execution_count": 39
        }
      ]
    },
    {
      "cell_type": "markdown",
      "metadata": {
        "id": "2Nw4iQ6uZ9ur",
        "colab_type": "text"
      },
      "source": [
        "On effectue des tests d'adéquation à une loi statistique par l'intermédiaire du test de Kolmogorov-Smirnov."
      ]
    },
    {
      "cell_type": "markdown",
      "metadata": {
        "id": "NLVLBC9pkDjA",
        "colab_type": "text"
      },
      "source": [
        "Dans notre premier cas, l'hypothèse nulle (H0) est que la variable X (prop_prot_anim_veg) suit une loi normale. L'hypothèse alternative (H1) est que la variable prop_prot_anim_veg ne suit pas la loi normale. "
      ]
    },
    {
      "cell_type": "markdown",
      "metadata": {
        "id": "uZfLiXUjkX6P",
        "colab_type": "text"
      },
      "source": [
        "- H0 : prop_prot_anim_veg = loi normale\n",
        "- H1 : prop_prot_anim_veg != loi normale"
      ]
    },
    {
      "cell_type": "code",
      "metadata": {
        "id": "sjOuQaOVYKfy",
        "colab_type": "code",
        "colab": {
          "base_uri": "https://localhost:8080/",
          "height": 35
        },
        "outputId": "c617d3e5-909a-4e9c-e5a2-baa3b8aef071"
      },
      "source": [
        "ks_2samp(bilan_alim[\"prop_prot_anim_veg\"],list(np.random.normal(np.mean(bilan_alim[\"prop_prot_anim_veg\"]), np.std(bilan_alim[\"prop_prot_anim_veg\"]), 1000)))"
      ],
      "execution_count": 40,
      "outputs": [
        {
          "output_type": "execute_result",
          "data": {
            "text/plain": [
              "Ks_2sampResult(statistic=0.10511242603550296, pvalue=0.07562152784713572)"
            ]
          },
          "metadata": {
            "tags": []
          },
          "execution_count": 40
        }
      ]
    },
    {
      "cell_type": "markdown",
      "metadata": {
        "id": "_uSLyeohkl5L",
        "colab_type": "text"
      },
      "source": [
        "On obtient une valeur D = 0.08. Selon la table de Kolmogorov-Smirnov pour un échantillon N = 169 et un coefficient alpha = 0.05, on obtient 1.358/sqrt(169) = 0.10. On ne peut donc pas rejeter l'hypothèse nulle (H0) à un coefficient alpha 5%. La distribution de la proportion de protéine animale par rapport à la proportion de protéine totale suit donc la loi normale. "
      ]
    },
    {
      "cell_type": "markdown",
      "metadata": {
        "id": "HJ39BEMrml9C",
        "colab_type": "text"
      },
      "source": [
        "On s'intéresse ensuite à l'adéquation de la distribution de la croissance de population à la loi normale. On aura donc une hypothèse nulle (H0) où la croissance de population suit une loi normale. L'hypothèse alternative (H1) indique que notre variable d'intérêt ne suit pas la loi normale."
      ]
    },
    {
      "cell_type": "markdown",
      "metadata": {
        "id": "AQIcGrPem6Xc",
        "colab_type": "text"
      },
      "source": [
        "- H0 : croissance_pop = loi normale\n",
        "- H1 : croissance_pop != loi normale"
      ]
    },
    {
      "cell_type": "code",
      "metadata": {
        "id": "Y2qrQYssYoAi",
        "colab_type": "code",
        "colab": {
          "base_uri": "https://localhost:8080/",
          "height": 35
        },
        "outputId": "2905ff45-c595-49c5-e791-8c2da83624a7"
      },
      "source": [
        "ks_2samp(bilan_alim[\"croissance_pop\"],list(np.random.normal(np.mean(bilan_alim[\"croissance_pop\"]), np.std(bilan_alim[\"croissance_pop\"]), 1000)))"
      ],
      "execution_count": 41,
      "outputs": [
        {
          "output_type": "execute_result",
          "data": {
            "text/plain": [
              "Ks_2sampResult(statistic=0.050467455621301775, pvalue=0.8341047972682125)"
            ]
          },
          "metadata": {
            "tags": []
          },
          "execution_count": 41
        }
      ]
    },
    {
      "cell_type": "markdown",
      "metadata": {
        "id": "39KauGA8nB9Q",
        "colab_type": "text"
      },
      "source": [
        "On obtient une valeur D = 0.06. Selon la table de Kolmogorov-Smirnov pour un échantillon N = 169 et un coefficient alpha = 0.05, on obtient 1.358/sqrt(169) = 0.10. On ne peut donc pas rejeter l'hypothèse nulle (H0) à un coefficient alpha 5%. La distribution de la croissance de la population suit donc la loi normale. "
      ]
    },
    {
      "cell_type": "markdown",
      "metadata": {
        "id": "Y2aRZfl0nJWq",
        "colab_type": "text"
      },
      "source": [
        "Notre troisième test s'intéresse à la distribution de la disponibilité alimentaire en protéines par habitant. L'hypothèse nulle (H0) correspond à une adéquation de la distribution à une loi normale alors que l'hypothèse alternative (H1) correspond à une non-adéquation à la loi normale. "
      ]
    },
    {
      "cell_type": "markdown",
      "metadata": {
        "id": "JOyg5pjinM0G",
        "colab_type": "text"
      },
      "source": [
        "- H0 : dispo_prot_hab = loi normale\n",
        "- H1 : dispo_prot_hab != loi normale"
      ]
    },
    {
      "cell_type": "code",
      "metadata": {
        "id": "12YAEfu1YvQ6",
        "colab_type": "code",
        "colab": {
          "base_uri": "https://localhost:8080/",
          "height": 35
        },
        "outputId": "b2a3722d-aea9-49fd-afc4-a7b550d9b1b2"
      },
      "source": [
        "ks_2samp(bilan_alim[\"dispo_prot_hab\"],list(np.random.normal(np.mean(bilan_alim[\"dispo_prot_hab\"]), np.std(bilan_alim[\"dispo_prot_hab\"]), 1000)))"
      ],
      "execution_count": 42,
      "outputs": [
        {
          "output_type": "execute_result",
          "data": {
            "text/plain": [
              "Ks_2sampResult(statistic=0.0877810650887574, pvalue=0.20158257574268068)"
            ]
          },
          "metadata": {
            "tags": []
          },
          "execution_count": 42
        }
      ]
    },
    {
      "cell_type": "markdown",
      "metadata": {
        "id": "jJ-Mv1oooA86",
        "colab_type": "text"
      },
      "source": [
        "On obtient une valeur D = 0.09. Selon la table de Kolmogorov-Smirnov pour un échantillon N = 169 et un coefficient alpha = 0.05, on obtient 1.358/sqrt(169) = 0.10. On ne peut donc pas rejeter l'hypothèse nulle (H0) à un coefficient alpha 5%. La distribution de la disponibilité alimentaire en protéines par habitant suit donc la loi normale. "
      ]
    },
    {
      "cell_type": "markdown",
      "metadata": {
        "id": "PQ9Kw6JaoMpA",
        "colab_type": "text"
      },
      "source": [
        "Notre quatrième test s'intéresse à la distribution de la disponibilité alimentaire en calories par habitant. L'hypothèse nulle (H0) correspond à une adéquation de la distribution à une loi normale alors que l'hypothèse alternative (H1) correspond à une non-adéquation à la loi normale. "
      ]
    },
    {
      "cell_type": "markdown",
      "metadata": {
        "id": "axkpO8t_oRlh",
        "colab_type": "text"
      },
      "source": [
        "- H0 : dispo_kcal_hab = loi normale\n",
        "- H1 : dispo_kcal_hab != loi normale"
      ]
    },
    {
      "cell_type": "code",
      "metadata": {
        "id": "ySduoNeKY0rn",
        "colab_type": "code",
        "colab": {
          "base_uri": "https://localhost:8080/",
          "height": 35
        },
        "outputId": "d32ad2a2-95b5-4029-ae5e-721339293166"
      },
      "source": [
        "ks_2samp(bilan_alim[\"dispo_kcal_hab\"],list(np.random.normal(np.mean(bilan_alim[\"dispo_kcal_hab\"]), np.std(bilan_alim[\"dispo_kcal_hab\"]), 1000)))"
      ],
      "execution_count": 43,
      "outputs": [
        {
          "output_type": "execute_result",
          "data": {
            "text/plain": [
              "Ks_2sampResult(statistic=0.07577514792899408, pvalue=0.35737448619146583)"
            ]
          },
          "metadata": {
            "tags": []
          },
          "execution_count": 43
        }
      ]
    },
    {
      "cell_type": "markdown",
      "metadata": {
        "id": "UlC5g-ZEoWkU",
        "colab_type": "text"
      },
      "source": [
        "On obtient une valeur D = 0.06. Selon la table de Kolmogorov-Smirnov pour un échantillon N = 169 et un coefficient alpha = 0.05, on obtient 1.358/sqrt(169) = 0.10. On ne peut donc pas rejeter l'hypothèse nulle (H0) à un coefficient alpha 5%. La distribution de la disponibilité alimentaire en calories par habitant suit donc la loi normale. "
      ]
    },
    {
      "cell_type": "markdown",
      "metadata": {
        "id": "ixbOe_C1of3P",
        "colab_type": "text"
      },
      "source": [
        "Notre cinquième test s'intéresse à la distribution du Produit Intérieur Brut (PIB) par habitant. L'hypothèse nulle (H0) correspond à une adéquation de la distribution à une loi normale alors que l'hypothèse alternative (H1) correspond à une non-adéquation à la loi normale. "
      ]
    },
    {
      "cell_type": "markdown",
      "metadata": {
        "id": "LlbafxtloryH",
        "colab_type": "text"
      },
      "source": [
        "- H0 : pib_hab = loi normale\n",
        "- H1 : pib_hab != loi normale"
      ]
    },
    {
      "cell_type": "code",
      "metadata": {
        "id": "1KlviKkNY52v",
        "colab_type": "code",
        "colab": {
          "base_uri": "https://localhost:8080/",
          "height": 35
        },
        "outputId": "28d81964-4ad2-4b1b-f203-234182e394ab"
      },
      "source": [
        "ks_2samp(bilan_alim[\"pib_hab\"],list(np.random.normal(np.mean(bilan_alim[\"pib_hab\"]), np.std(bilan_alim[\"pib_hab\"]), 1000)))"
      ],
      "execution_count": 44,
      "outputs": [
        {
          "output_type": "execute_result",
          "data": {
            "text/plain": [
              "Ks_2sampResult(statistic=0.2624733727810651, pvalue=2.8673732277439967e-09)"
            ]
          },
          "metadata": {
            "tags": []
          },
          "execution_count": 44
        }
      ]
    },
    {
      "cell_type": "markdown",
      "metadata": {
        "id": "CyghSO_powgt",
        "colab_type": "text"
      },
      "source": [
        "On obtient une valeur D = 0.25. Selon la table de Kolmogorov-Smirnov pour un échantillon N = 169 et un coefficient alpha = 0.05, on obtient 1.358/sqrt(169) = 0.10. On peut donc rejeter l'hypothèse nulle (H0) à un coefficient alpha 5%. La distribution du produit intérieur brut ne suit donc pas une loi normale (ou gaussienne)."
      ]
    },
    {
      "cell_type": "markdown",
      "metadata": {
        "id": "WSeL_HJ0pAQU",
        "colab_type": "text"
      },
      "source": [
        "Enfin, notre dernier test s'intéresse à la distribution du Revenu National Brut (RNB) par habitant. L'hypothèse nulle (H0) correspond à l'adéquation de la distributio à une loi normale alors que l'hypothèse alternative (H1) correspond à la non-adéquation à la loi normale."
      ]
    },
    {
      "cell_type": "markdown",
      "metadata": {
        "id": "kC7iOTk5pP3Q",
        "colab_type": "text"
      },
      "source": [
        "- H0 : rnb_hab = loi normale\n",
        "- H1 : rnb_hab != loi normale"
      ]
    },
    {
      "cell_type": "code",
      "metadata": {
        "id": "rjJyv1E9Y9er",
        "colab_type": "code",
        "colab": {
          "base_uri": "https://localhost:8080/",
          "height": 35
        },
        "outputId": "766d4fb1-a361-4cdd-8263-2571fe10ee64"
      },
      "source": [
        "ks_2samp(bilan_alim[\"rnb_hab\"],list(np.random.normal(np.mean(bilan_alim[\"rnb_hab\"]), np.std(bilan_alim[\"rnb_hab\"]), 1000)))"
      ],
      "execution_count": 45,
      "outputs": [
        {
          "output_type": "execute_result",
          "data": {
            "text/plain": [
              "Ks_2sampResult(statistic=0.252, pvalue=1.4234710521421334e-08)"
            ]
          },
          "metadata": {
            "tags": []
          },
          "execution_count": 45
        }
      ]
    },
    {
      "cell_type": "markdown",
      "metadata": {
        "id": "YFgQb-hWpXAF",
        "colab_type": "text"
      },
      "source": [
        "On obtient une valeur D = 0.24. Selon la table de Kolmogorov-Smirnov pour un échantillon N = 169 et un coefficient alpha = 0.05, on obtient 1.358/sqrt(169) = 0.10. On peut donc rejeter l'hypothèse nulle (H0) à un coefficient alpha 5%. La distribution du revenu national brut (RNB) ne suit donc pas une loi normale (ou gaussienne)."
      ]
    },
    {
      "cell_type": "markdown",
      "metadata": {
        "id": "oqi4dJzIaEbI",
        "colab_type": "text"
      },
      "source": [
        "Une fois que l'on a déterminé les variables qui suivent une loi normale et celles qui ne la suivent pas. On peut s'intéresser à la réalisation de statistiques inférentielles pour comparer les moyennes dans deux de nos clusters. On va s'intéresser aux clusters 1 et 2.\n",
        "En effet, ces deux clusters ont l'avantage d'avoir des proportions de protéine animale représentant environ 50% indiquant qu'ils consomment autant de protéines animale que végétale."
      ]
    },
    {
      "cell_type": "code",
      "metadata": {
        "id": "NG5gJDilZ8Vo",
        "colab_type": "code",
        "colab": {
          "base_uri": "https://localhost:8080/",
          "height": 35
        },
        "outputId": "5fc40e70-2d16-4773-d0c3-e98341315016"
      },
      "source": [
        "clust1 = bilan_alim[bilan_alim[\"ddg_cluster4\"]==1][\"prop_prot_anim_veg\"]\n",
        "clust2 = bilan_alim[bilan_alim[\"ddg_cluster4\"]==2][\"prop_prot_anim_veg\"]\n",
        "st.stats.bartlett(clust1,clust2)"
      ],
      "execution_count": 46,
      "outputs": [
        {
          "output_type": "execute_result",
          "data": {
            "text/plain": [
              "BartlettResult(statistic=11.536211325108667, pvalue=0.0006825359134340864)"
            ]
          },
          "metadata": {
            "tags": []
          },
          "execution_count": 46
        }
      ]
    },
    {
      "cell_type": "code",
      "metadata": {
        "id": "CtlDId0JbGRK",
        "colab_type": "code",
        "colab": {
          "base_uri": "https://localhost:8080/",
          "height": 35
        },
        "outputId": "fa8455f7-09a3-4972-e884-05a46ffe4f17"
      },
      "source": [
        "st.stats.ttest_ind(clust1,clust2, equal_var=True)"
      ],
      "execution_count": 47,
      "outputs": [
        {
          "output_type": "execute_result",
          "data": {
            "text/plain": [
              "Ttest_indResult(statistic=7.25190862999725, pvalue=5.3051177958589667e-11)"
            ]
          },
          "metadata": {
            "tags": []
          },
          "execution_count": 47
        }
      ]
    },
    {
      "cell_type": "code",
      "metadata": {
        "id": "gb_xh2Q_bKcP",
        "colab_type": "code",
        "colab": {
          "base_uri": "https://localhost:8080/",
          "height": 35
        },
        "outputId": "a6ad3586-8523-4e3b-f9ee-efb51fcc814d"
      },
      "source": [
        "clust1 = bilan_alim[bilan_alim[\"ddg_cluster4\"]==1][\"croissance_pop\"]\n",
        "clust2 = bilan_alim[bilan_alim[\"ddg_cluster4\"]==2][\"croissance_pop\"]\n",
        "st.stats.bartlett(clust1,clust2)"
      ],
      "execution_count": 48,
      "outputs": [
        {
          "output_type": "execute_result",
          "data": {
            "text/plain": [
              "BartlettResult(statistic=3.463322185451638, pvalue=0.06274413171607972)"
            ]
          },
          "metadata": {
            "tags": []
          },
          "execution_count": 48
        }
      ]
    },
    {
      "cell_type": "code",
      "metadata": {
        "id": "s_CueXyqbOHi",
        "colab_type": "code",
        "colab": {
          "base_uri": "https://localhost:8080/",
          "height": 35
        },
        "outputId": "0ed5a9ad-1c1c-418f-ba77-28fde1eb7ebb"
      },
      "source": [
        "st.stats.ttest_ind(clust1,clust2, equal_var=True)"
      ],
      "execution_count": 49,
      "outputs": [
        {
          "output_type": "execute_result",
          "data": {
            "text/plain": [
              "Ttest_indResult(statistic=-3.6658488655479666, pvalue=0.0003758637421135388)"
            ]
          },
          "metadata": {
            "tags": []
          },
          "execution_count": 49
        }
      ]
    },
    {
      "cell_type": "code",
      "metadata": {
        "id": "R8m1qvGrITOm",
        "colab_type": "code",
        "colab": {
          "base_uri": "https://localhost:8080/",
          "height": 206
        },
        "outputId": "54d6b955-783a-4fe5-f2f1-4f05e51aaba8"
      },
      "source": [
        "bilan_alim_2 = pd.pivot_table(bilan_alim, columns='ddg_cluster4', aggfunc=np.mean)\n",
        "bilan_alim_2 = bilan_alim_2.transpose()\n",
        "bilan_alim_2 = bilan_alim_2[['croissance_pop', 'pib_hab', 'rnb_hab', 'dispo_kcal_hab', 'dispo_prot_hab', 'prop_prot_anim_veg']]\n",
        "bilan_alim_2"
      ],
      "execution_count": 50,
      "outputs": [
        {
          "output_type": "execute_result",
          "data": {
            "text/html": [
              "<div>\n",
              "<style scoped>\n",
              "    .dataframe tbody tr th:only-of-type {\n",
              "        vertical-align: middle;\n",
              "    }\n",
              "\n",
              "    .dataframe tbody tr th {\n",
              "        vertical-align: top;\n",
              "    }\n",
              "\n",
              "    .dataframe thead th {\n",
              "        text-align: right;\n",
              "    }\n",
              "</style>\n",
              "<table border=\"1\" class=\"dataframe\">\n",
              "  <thead>\n",
              "    <tr style=\"text-align: right;\">\n",
              "      <th></th>\n",
              "      <th>croissance_pop</th>\n",
              "      <th>pib_hab</th>\n",
              "      <th>rnb_hab</th>\n",
              "      <th>dispo_kcal_hab</th>\n",
              "      <th>dispo_prot_hab</th>\n",
              "      <th>prop_prot_anim_veg</th>\n",
              "    </tr>\n",
              "    <tr>\n",
              "      <th>ddg_cluster4</th>\n",
              "      <th></th>\n",
              "      <th></th>\n",
              "      <th></th>\n",
              "      <th></th>\n",
              "      <th></th>\n",
              "      <th></th>\n",
              "    </tr>\n",
              "  </thead>\n",
              "  <tbody>\n",
              "    <tr>\n",
              "      <th>1</th>\n",
              "      <td>0.480000</td>\n",
              "      <td>36688.563555</td>\n",
              "      <td>35354.033453</td>\n",
              "      <td>1.236628e+06</td>\n",
              "      <td>38747.832222</td>\n",
              "      <td>0.588681</td>\n",
              "    </tr>\n",
              "    <tr>\n",
              "      <th>2</th>\n",
              "      <td>1.138451</td>\n",
              "      <td>8548.844381</td>\n",
              "      <td>8351.506443</td>\n",
              "      <td>9.915662e+05</td>\n",
              "      <td>27694.349296</td>\n",
              "      <td>0.469795</td>\n",
              "    </tr>\n",
              "    <tr>\n",
              "      <th>3</th>\n",
              "      <td>2.455714</td>\n",
              "      <td>1252.173853</td>\n",
              "      <td>1220.975130</td>\n",
              "      <td>8.197118e+05</td>\n",
              "      <td>20287.873214</td>\n",
              "      <td>0.216697</td>\n",
              "    </tr>\n",
              "    <tr>\n",
              "      <th>4</th>\n",
              "      <td>1.751200</td>\n",
              "      <td>3365.049453</td>\n",
              "      <td>3333.165100</td>\n",
              "      <td>1.085963e+06</td>\n",
              "      <td>28939.828000</td>\n",
              "      <td>0.255416</td>\n",
              "    </tr>\n",
              "  </tbody>\n",
              "</table>\n",
              "</div>"
            ],
            "text/plain": [
              "              croissance_pop       pib_hab  ...  dispo_prot_hab  prop_prot_anim_veg\n",
              "ddg_cluster4                                ...                                    \n",
              "1                   0.480000  36688.563555  ...    38747.832222            0.588681\n",
              "2                   1.138451   8548.844381  ...    27694.349296            0.469795\n",
              "3                   2.455714   1252.173853  ...    20287.873214            0.216697\n",
              "4                   1.751200   3365.049453  ...    28939.828000            0.255416\n",
              "\n",
              "[4 rows x 6 columns]"
            ]
          },
          "metadata": {
            "tags": []
          },
          "execution_count": 50
        }
      ]
    },
    {
      "cell_type": "code",
      "metadata": {
        "id": "wV0wr4g1s5Ps",
        "colab_type": "code",
        "colab": {
          "base_uri": "https://localhost:8080/",
          "height": 301
        },
        "outputId": "0c3d2e5c-d676-4242-a374-9e01aa85c480"
      },
      "source": [
        "_ = sns.boxplot(x='ddg_cluster4', y='prop_prot_anim_veg', data=bilan_alim)\n",
        "_ = plt.show()"
      ],
      "execution_count": 51,
      "outputs": [
        {
          "output_type": "display_data",
          "data": {
            "image/png": "[encoded data removed]",
            "text/plain": [
              "<Figure size 432x288 with 1 Axes>"
            ]
          },
          "metadata": {
            "tags": [],
            "needs_background": "light"
          }
        }
      ]
    },
    {
      "cell_type": "code",
      "metadata": {
        "id": "1ERLUjJ0tOJE",
        "colab_type": "code",
        "colab": {
          "base_uri": "https://localhost:8080/",
          "height": 301
        },
        "outputId": "11df20a8-9d94-46ce-acbf-366ea783c4bd"
      },
      "source": [
        "_ = sns.boxplot(x='ddg_cluster4', y='croissance_pop', data=bilan_alim)\n",
        "_ = plt.show()"
      ],
      "execution_count": 53,
      "outputs": [
        {
          "output_type": "display_data",
          "data": {
            "image/png": "[encoded data removed]",
            "text/plain": [
              "<Figure size 432x288 with 1 Axes>"
            ]
          },
          "metadata": {
            "tags": [],
            "needs_background": "light"
          }
        }
      ]
    },
    {
      "cell_type": "code",
      "metadata": {
        "id": "BBCpcWTguA90",
        "colab_type": "code",
        "colab": {
          "base_uri": "https://localhost:8080/",
          "height": 72
        },
        "outputId": "fd1b64f3-6d92-4a9d-8a76-3458fba2e444"
      },
      "source": [
        "x = bilan_alim['dispo_prot_hab']\n",
        "y = bilan_alim['dispo_kcal_hab']\n",
        "\n",
        "print('rho de pearson :', st.stats.pearsonr(x, y)[0])\n",
        "print('indice de covariation :', np.cov(x, y, ddof=0)[1,0])\n",
        "\n",
        "Y = bilan_alim['dispo_kcal_hab']\n",
        "X = bilan_alim[['dispo_prot_hab']]\n",
        "X = X.copy()\n",
        "X['intercept'] = 1.\n",
        "result = sm.OLS(Y, X).fit()\n",
        "a,b = result.params['dispo_prot_hab'],result.params['intercept']\n",
        "print('r-squared : ', (st.stats.pearsonr(x,y)[0])**2)"
      ],
      "execution_count": 55,
      "outputs": [
        {
          "output_type": "stream",
          "text": [
            "rho de pearson : 0.8787998328773228\n",
            "indice de covariation : 1085102627.4968407\n",
            "r-squared :  0.7722891462652104\n"
          ],
          "name": "stdout"
        }
      ]
    },
    {
      "cell_type": "code",
      "metadata": {
        "id": "MI9eJPWLuUwY",
        "colab_type": "code",
        "colab": {
          "base_uri": "https://localhost:8080/",
          "height": 648
        },
        "outputId": "d9648ad7-79c0-4f6b-921f-18ddaf8a778a"
      },
      "source": [
        "sns.set_context('talk')\n",
        "sns.set_palette('Set1')\n",
        "\n",
        "_ = plt.figure(figsize = (10,10))\n",
        "_ = sns.regplot('dispo_prot_hab', 'dispo_kcal_hab', data=bilan_alim)\n",
        "_ = plt.xlabel(\"Disponibilité alimentaire en protéines par habitant\")\n",
        "_ = plt.ylabel(\"Disponibilité alimentaire en calories par habitant\")\n",
        "_ = plt.title(\"Corrélation entre la disponibilité alimentaire en protéines et en calories par habitant\")\n",
        "\n",
        "_ = plt.show()"
      ],
      "execution_count": 62,
      "outputs": [
        {
          "output_type": "display_data",
          "data": {
            "image/png": "[encoded data removed]",
            "text/plain": [
              "<Figure size 720x720 with 1 Axes>"
            ]
          },
          "metadata": {
            "tags": [],
            "needs_background": "light"
          }
        }
      ]
    },
    {
      "cell_type": "code",
      "metadata": {
        "id": "UyVTQo05wKAs",
        "colab_type": "code",
        "colab": {
          "base_uri": "https://localhost:8080/",
          "height": 35
        },
        "outputId": "ec7969a2-8a99-4d9c-d5f1-9b240d0e986c"
      },
      "source": [
        "clust1 = bilan_alim[bilan_alim[\"ddg_cluster4\"]==1][\"dispo_prot_hab\"]\n",
        "clust2 = bilan_alim[bilan_alim[\"ddg_cluster4\"]==2][\"dispo_prot_hab\"]\n",
        "st.stats.bartlett(clust1,clust2)"
      ],
      "execution_count": 63,
      "outputs": [
        {
          "output_type": "execute_result",
          "data": {
            "text/plain": [
              "BartlettResult(statistic=0.02673872749187956, pvalue=0.8701091787983861)"
            ]
          },
          "metadata": {
            "tags": []
          },
          "execution_count": 63
        }
      ]
    },
    {
      "cell_type": "code",
      "metadata": {
        "id": "j49lTleawPNM",
        "colab_type": "code",
        "colab": {
          "base_uri": "https://localhost:8080/",
          "height": 35
        },
        "outputId": "97747ac5-6689-45d6-8616-4a3cddbd00e7"
      },
      "source": [
        "st.stats.ttest_ind(clust1,clust2, equal_var=True)"
      ],
      "execution_count": 64,
      "outputs": [
        {
          "output_type": "execute_result",
          "data": {
            "text/plain": [
              "Ttest_indResult(statistic=14.02587053336525, pvalue=1.405334535172556e-26)"
            ]
          },
          "metadata": {
            "tags": []
          },
          "execution_count": 64
        }
      ]
    },
    {
      "cell_type": "code",
      "metadata": {
        "id": "6CgNaM5FwaND",
        "colab_type": "code",
        "colab": {
          "base_uri": "https://localhost:8080/",
          "height": 301
        },
        "outputId": "6fb48e69-8f7d-48c9-8687-bc1924de29b0"
      },
      "source": [
        "_ = sns.boxplot(x='ddg_cluster4', y='dispo_prot_hab', data=bilan_alim)\n",
        "_ = plt.show()"
      ],
      "execution_count": 65,
      "outputs": [
        {
          "output_type": "display_data",
          "data": {
            "image/png": "[encoded data removed]",
            "text/plain": [
              "<Figure size 432x288 with 1 Axes>"
            ]
          },
          "metadata": {
            "tags": [],
            "needs_background": "light"
          }
        }
      ]
    }
  ]
}